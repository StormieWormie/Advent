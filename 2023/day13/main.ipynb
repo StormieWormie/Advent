{
 "cells": [
  {
   "cell_type": "code",
   "execution_count": 1,
   "metadata": {},
   "outputs": [],
   "source": [
    "import numpy as np"
   ]
  },
  {
   "cell_type": "code",
   "execution_count": 8,
   "metadata": {},
   "outputs": [],
   "source": [
    "filename = 'input'\n",
    "file = open(filename + '.txt')\n",
    "\n",
    "reader = {'.':0,'#':1}\n",
    "\n",
    "maps = []\n",
    "\n",
    "new_map = []\n",
    "for line in file.readlines():\n",
    "    if line == '\\n':\n",
    "        maps.append(np.array(new_map))\n",
    "        new_map = []\n",
    "    else:\n",
    "        new_map.append([reader[char] for char in line.removesuffix('\\n')])\n",
    "maps.append(np.array(new_map))"
   ]
  },
  {
   "cell_type": "code",
   "execution_count": 9,
   "metadata": {},
   "outputs": [],
   "source": [
    "def check_symmetry(map):\n",
    "    N = len(map)\n",
    "    for i in range(1,N):\n",
    "        symm = True\n",
    "        # print(i,N-i)\n",
    "        for j in range(min(i,N-i)):\n",
    "            # print(i,':',i+j, i-1-j)\n",
    "            if not all(map[i+j]==map[i-1-j]):\n",
    "                symm = False\n",
    "                break\n",
    "        if symm:\n",
    "            return i\n",
    "    return 0\n",
    "\n",
    "def check_smudge(map):\n",
    "    N = len(map)\n",
    "    for i in range(1,N):\n",
    "        symm = True\n",
    "        smudges = 0\n",
    "        for j in range(min(i,N-i)):\n",
    "            smudges += sum(map[i+j]!=map[i-1-j])\n",
    "            if smudges > 1:\n",
    "                break\n",
    "        if smudges == 1:\n",
    "            return i\n",
    "    return 0"
   ]
  },
  {
   "cell_type": "code",
   "execution_count": 4,
   "metadata": {},
   "outputs": [
    {
     "name": "stdout",
     "output_type": "stream",
     "text": [
      "part1:  30802\n"
     ]
    }
   ],
   "source": [
    "count = 0\n",
    "i = 0\n",
    "for map in maps:\n",
    "    val = check_symmetry(map)\n",
    "    if val == 0:\n",
    "        val = check_symmetry(map.transpose())\n",
    "        if val == 0:\n",
    "            print(\"oops\")\n",
    "            break\n",
    "        count += val\n",
    "    else:\n",
    "        count += 100*val\n",
    "    i+= 1\n",
    "print('part1: ', count)"
   ]
  },
  {
   "cell_type": "code",
   "execution_count": 10,
   "metadata": {},
   "outputs": [
    {
     "name": "stdout",
     "output_type": "stream",
     "text": [
      "part2:  37876\n"
     ]
    }
   ],
   "source": [
    "count = 0\n",
    "i = 0\n",
    "for map in maps:\n",
    "    val = check_smudge(map)\n",
    "    if val == 0:\n",
    "        val = check_smudge(map.transpose())\n",
    "        if val == 0:\n",
    "            print(\"oops\")\n",
    "            break\n",
    "        count += val\n",
    "    else:\n",
    "        count += 100*val\n",
    "    i+= 1\n",
    "print('part2: ', count)"
   ]
  }
 ],
 "metadata": {
  "kernelspec": {
   "display_name": "Advent",
   "language": "python",
   "name": "python3"
  },
  "language_info": {
   "codemirror_mode": {
    "name": "ipython",
    "version": 3
   },
   "file_extension": ".py",
   "mimetype": "text/x-python",
   "name": "python",
   "nbconvert_exporter": "python",
   "pygments_lexer": "ipython3",
   "version": "3.11.5"
  }
 },
 "nbformat": 4,
 "nbformat_minor": 2
}
