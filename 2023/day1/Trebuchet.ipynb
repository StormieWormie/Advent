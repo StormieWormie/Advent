{
 "cells": [
  {
   "cell_type": "code",
   "execution_count": 3,
   "metadata": {},
   "outputs": [],
   "source": [
    "import numpy as np\n",
    "import re"
   ]
  },
  {
   "cell_type": "markdown",
   "metadata": {},
   "source": [
    "## Part 1"
   ]
  },
  {
   "cell_type": "code",
   "execution_count": 7,
   "metadata": {},
   "outputs": [],
   "source": [
    "file = open(\"Trebuchet_input.txt\")\n",
    "\n",
    "twodigits = \"[a-zA-Z]*(?P<first>[0-9])[a-zA-Z0-9]*(?P<second>[0-9])[a-zA-Z]*\"\n",
    "onedigit = \"[a-zA-Z]*(?P<first>[0-9])[a-zA-Z]*\"\n",
    "\n",
    "result = 0\n",
    "\n",
    "for line in file.readlines():\n",
    "    line = line.removesuffix('\\n')\n",
    "    if re.fullmatch(onedigit,line):\n",
    "        pattern = onedigit\n",
    "        obj = re.search(pattern,line)\n",
    "        value = int(2*obj.group('first'))\n",
    "    elif re.fullmatch(twodigits,line):\n",
    "        pattern = twodigits\n",
    "        obj = re.search(pattern,line)\n",
    "        value = int(obj.group('first')+obj.group('second'))\n",
    "    else:\n",
    "        value = 0\n",
    "\n",
    "    result += value\n"
   ]
  },
  {
   "cell_type": "code",
   "execution_count": 8,
   "metadata": {},
   "outputs": [
    {
     "data": {
      "text/plain": [
       "56049"
      ]
     },
     "execution_count": 8,
     "metadata": {},
     "output_type": "execute_result"
    }
   ],
   "source": [
    "result"
   ]
  },
  {
   "cell_type": "markdown",
   "metadata": {},
   "source": [
    "## Part 2"
   ]
  },
  {
   "cell_type": "code",
   "execution_count": 125,
   "metadata": {},
   "outputs": [],
   "source": [
    "numbers = {}\n",
    "strings = [\"zero\",\"one\",\"two\",\"three\",\"four\",\"five\",\"six\",\"seven\",\"eight\",\"nine\"]\n",
    "for i in range(10):\n",
    "    numbers[str(i)]=i\n",
    "for i in range(10):\n",
    "    numbers[strings[i]]=i\n",
    "\n",
    "tree = {}\n",
    "eert = {}\n",
    "for i in range(10):\n",
    "    tree[str(i)] = i\n",
    "    eert[str(i)] = i\n",
    "\n",
    "for key,val in numbers.items():\n",
    "    branch = tree\n",
    "    for token,i in zip(key,range(len(key))):\n",
    "        if token in branch:\n",
    "            branch = branch[token]\n",
    "        else:\n",
    "            if i == len(key)-1:\n",
    "                branch[token] = val\n",
    "            else:\n",
    "                branch[token] = {}\n",
    "                branch = branch[token]\n",
    "\n",
    "for key,val in numbers.items():\n",
    "    branch = eert\n",
    "    for token,i in zip(reversed(key),range(len(key))):\n",
    "        if token in branch:\n",
    "            branch = branch[token]\n",
    "        else:\n",
    "            if i == len(key)-1:\n",
    "                branch[token] = val\n",
    "            else:\n",
    "                branch[token] = {}\n",
    "                branch = branch[token]\n",
    "\n",
    "def condense(tree):\n",
    "    old_items = tree.copy().items()\n",
    "    for key,val in old_items:\n",
    "        if type(val) == dict:\n",
    "            condense(val)\n",
    "            if len(val) == 1:\n",
    "                key2 = list(val.keys())[0]\n",
    "                branch = list(val.values())[0]\n",
    "                new_key = key+key2\n",
    "                tree[new_key] = branch\n",
    "                tree.pop(key)\n",
    "                \n",
    "condense(tree)\n",
    "condense(eert)\n",
    "\n",
    "def match(tree,token):\n",
    "    for key,val in tree.items():\n",
    "        if token[:len(key)] == key:\n",
    "            if type(tree[key]) == dict:\n",
    "                return match(tree[key],token.removeprefix(key))\n",
    "            else:\n",
    "                return (True, tree[key])\n",
    "    return (False, 0)\n",
    "\n",
    "def find(tree,string):\n",
    "    done = False\n",
    "    while not done:\n",
    "        result = match(tree, string)\n",
    "        string = string[1::]\n",
    "        done = result[0]\n",
    "    return str(result[1])"
   ]
  },
  {
   "cell_type": "code",
   "execution_count": 130,
   "metadata": {},
   "outputs": [
    {
     "data": {
      "text/plain": [
       "54530"
      ]
     },
     "execution_count": 130,
     "metadata": {},
     "output_type": "execute_result"
    }
   ],
   "source": [
    "file = open(\"Trebuchet_input.txt\")\n",
    "\n",
    "result = 0\n",
    "for line in file.readlines():\n",
    "    line = line.removesuffix('\\n')\n",
    "    enil = line[::-1]\n",
    "    first = find(tree,line)\n",
    "    second = find(eert,enil)\n",
    "    result += int(first+second)\n",
    "result"
   ]
  }
 ],
 "metadata": {
  "kernelspec": {
   "display_name": "Advent",
   "language": "python",
   "name": "python3"
  },
  "language_info": {
   "codemirror_mode": {
    "name": "ipython",
    "version": 3
   },
   "file_extension": ".py",
   "mimetype": "text/x-python",
   "name": "python",
   "nbconvert_exporter": "python",
   "pygments_lexer": "ipython3",
   "version": "3.11.5"
  }
 },
 "nbformat": 4,
 "nbformat_minor": 2
}
