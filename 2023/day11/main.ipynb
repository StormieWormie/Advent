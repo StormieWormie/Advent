{
 "cells": [
  {
   "cell_type": "code",
   "execution_count": 123,
   "metadata": {},
   "outputs": [],
   "source": [
    "import numpy as np"
   ]
  },
  {
   "cell_type": "code",
   "execution_count": 124,
   "metadata": {},
   "outputs": [
    {
     "name": "stdout",
     "output_type": "stream",
     "text": [
      "part1:  9742154\n"
     ]
    }
   ],
   "source": [
    "filename = 'input'\n",
    "file = open(filename + '.txt')\n",
    "\n",
    "galaxy_map = []\n",
    "index = 1\n",
    "for line in file.readlines():\n",
    "    new_line = []\n",
    "    for char in line.removesuffix('\\n'):\n",
    "        match char:\n",
    "            case '.':\n",
    "                new_char = 0\n",
    "            case '#':\n",
    "                new_char = index\n",
    "                index += 1\n",
    "            case default:\n",
    "                print(\"this should not be reached\")\n",
    "        new_line.append(new_char)\n",
    "    galaxy_map.append(new_line)\n",
    "galaxy_map = np.array(galaxy_map)\n",
    "\n",
    "def pad(old_map):\n",
    "    new_map = []\n",
    "    for line in old_map:\n",
    "        if all(line==0):\n",
    "            new_map.append(line)\n",
    "        new_map.append(line)\n",
    "    return np.array(new_map)\n",
    "\n",
    "galaxy_map = pad(galaxy_map)\n",
    "galaxy_map = pad(galaxy_map.transpose()).transpose() #Lol, what is efficiency?\n",
    "\n",
    "galaxy_dict = {}\n",
    "ilist,jlist = np.where(galaxy_map!=0)\n",
    "for i,j in zip(ilist,jlist):\n",
    "    galaxy_dict[galaxy_map[i,j]] = np.array([i,j])\n",
    "N = len(galaxy_dict)\n",
    "\n",
    "distances = np.zeros((N,N))\n",
    "\n",
    "result = 0\n",
    "\n",
    "keys = [key for key in galaxy_dict.keys()]\n",
    "for i in range(N):\n",
    "    index1 = galaxy_dict[keys[i]]\n",
    "    for j in range(i+1,N):\n",
    "        index2 = galaxy_dict[keys[j]]\n",
    "        D = np.sum(np.abs(index1-index2))\n",
    "        distances[i,j] = distances[j,i] = D\n",
    "        result += D\n",
    "print(\"part1: \",result)"
   ]
  },
  {
   "cell_type": "markdown",
   "metadata": {},
   "source": [
    "# Part 2: damn, I need more efficiency"
   ]
  },
  {
   "cell_type": "code",
   "execution_count": 127,
   "metadata": {},
   "outputs": [],
   "source": [
    "filename = 'input'\n",
    "file = open(filename + '.txt')\n",
    "\n",
    "galaxy_map = []\n",
    "index = 1\n",
    "for line in file.readlines():\n",
    "    new_line = []\n",
    "    for char in line.removesuffix('\\n'):\n",
    "        match char:\n",
    "            case '.':\n",
    "                new_char = 0\n",
    "            case '#':\n",
    "                new_char = index\n",
    "                index += 1\n",
    "            case default:\n",
    "                print(\"this should not be reached\")\n",
    "        new_line.append(new_char)\n",
    "    galaxy_map.append(new_line)\n",
    "galaxy_map = np.array(galaxy_map)\n",
    "\n",
    "def get_lengths(gmap,expansion):\n",
    "    ivertical = np.array([expansion if all(row==0) else 1 for row in gmap])\n",
    "    ihorizontal = np.array([expansion if all(row==0) else 1 for row in gmap.transpose()])\n",
    "    return ivertical,ihorizontal\n",
    "\n",
    "I,J = get_lengths(galaxy_map,1000000)\n",
    "\n",
    "galaxy_dict = {}\n",
    "ilist,jlist = np.where(galaxy_map!=0)\n",
    "for i,j in zip(ilist,jlist):\n",
    "    galaxy_dict[galaxy_map[i,j]] = np.array([i,j])\n",
    "N = len(galaxy_dict)\n",
    "\n",
    "distances2 = np.zeros((N,N))\n",
    "\n",
    "def mysort(i1,i2):\n",
    "    return (i1,i1) if i1==i2 else (i1,i2) if i2>i1 else (i2,i1)\n",
    "\n",
    "result2 = 0\n",
    "keys = [key for key in galaxy_dict.keys()]\n",
    "for i in range(N):\n",
    "    index1 = galaxy_dict[keys[i]]\n",
    "    for j in range(i+1,N):\n",
    "        index2 = galaxy_dict[keys[j]]\n",
    "        starti,endi = mysort(index1[0],index2[0])\n",
    "        startj,endj = mysort(index1[1],index2[1])\n",
    "        D = sum(I[starti:endi]) + sum(J[startj:endj])\n",
    "        distances2[i,j] = distances2[j,i]= D\n",
    "        result2 += D\n"
   ]
  },
  {
   "cell_type": "code",
   "execution_count": 128,
   "metadata": {},
   "outputs": [
    {
     "name": "stdout",
     "output_type": "stream",
     "text": [
      "part1:  9742154 \n",
      "part2:  411142919886\n"
     ]
    }
   ],
   "source": [
    "print(\"part1: \",result, \"\\npart2: \",result2)"
   ]
  },
  {
   "cell_type": "code",
   "execution_count": null,
   "metadata": {},
   "outputs": [],
   "source": []
  }
 ],
 "metadata": {
  "kernelspec": {
   "display_name": "Advent",
   "language": "python",
   "name": "python3"
  },
  "language_info": {
   "codemirror_mode": {
    "name": "ipython",
    "version": 3
   },
   "file_extension": ".py",
   "mimetype": "text/x-python",
   "name": "python",
   "nbconvert_exporter": "python",
   "pygments_lexer": "ipython3",
   "version": "3.11.5"
  }
 },
 "nbformat": 4,
 "nbformat_minor": 2
}
