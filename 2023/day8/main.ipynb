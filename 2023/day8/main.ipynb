{
 "cells": [
  {
   "cell_type": "code",
   "execution_count": 1,
   "metadata": {},
   "outputs": [],
   "source": [
    "import re\n",
    "import math"
   ]
  },
  {
   "cell_type": "code",
   "execution_count": 2,
   "metadata": {},
   "outputs": [],
   "source": [
    "filename = 'input'\n",
    "\n",
    "file = open(filename + '.txt')\n",
    "\n",
    "instructions = file.readline().removesuffix('\\n')\n",
    "file.readline()\n",
    "\n",
    "route = {}\n",
    "for line in file.readlines():\n",
    "    data = re.findall('[A-Z]{3}', line)\n",
    "    route[data[0]] = data[1::]\n",
    "\n",
    "def walk(route, instructions, start = 'AAA'):\n",
    "    position = start\n",
    "    for char in instructions:\n",
    "        match char:\n",
    "            case 'L':\n",
    "                position = route[position][0]\n",
    "            case 'R':\n",
    "                position = route[position][1]\n",
    "            case default:\n",
    "                print(\"inaccessible (i hope)\")\n",
    "    return position\n",
    "  \n",
    "def walk2(route, instructions, start = 'AAA', end = 'ZZZ'):\n",
    "    position = start\n",
    "    N = 0\n",
    "    for char in instructions:\n",
    "        if position == end:\n",
    "            break\n",
    "        match char:\n",
    "            case 'L':\n",
    "                position = route[position][0]\n",
    "            case 'R':\n",
    "                position = route[position][1]\n",
    "            case default:\n",
    "                print(\"inaccessible (i hope)\")\n",
    "        N += 1\n",
    "    return (N, position)\n",
    "          \n",
    "def goto(route, instructions, start =  'AAA', end = 'ZZZ'):\n",
    "    position = start\n",
    "    N = 0\n",
    "    while position != end:\n",
    "        position = walk(route, instructions, position)\n",
    "        N += 1\n",
    "    return N*len(instructions)\n",
    "\n",
    "def goto2(route, instructions, start =  'AAA', end = 'ZZZ'):\n",
    "    position = start\n",
    "    N = 0\n",
    "    while position != end:\n",
    "        addon, position = walk2(route, instructions, position, end)\n",
    "        N += addon\n",
    "    return N\n",
    "\n",
    "\n"
   ]
  },
  {
   "cell_type": "code",
   "execution_count": 3,
   "metadata": {},
   "outputs": [],
   "source": [
    "starts = []\n",
    "for key in route.keys():\n",
    "    if bool(re.fullmatch('[A-Z]{2}[A]', key)):\n",
    "        starts.append(key)"
   ]
  },
  {
   "cell_type": "code",
   "execution_count": 4,
   "metadata": {},
   "outputs": [],
   "source": [
    "def term(position):\n",
    "    return bool(re.fullmatch('[A-Z]{2}[Z]', position))\n",
    "\n",
    "def terminal(positions):\n",
    "    for position in positions:\n",
    "        if not term(position):\n",
    "            return False\n",
    "    return True\n",
    "\n",
    "def new_goto(route, instructions, start = 'AAA'):\n",
    "    position = start\n",
    "    N = 0\n",
    "    while not term(position) or N == 0:\n",
    "        position = walk(route, instructions, position)\n",
    "        N += 1\n",
    "    return N*len(instructions), position\n",
    "\n",
    "def create_shortcuts(route, instructions):\n",
    "    shortcut = {}\n",
    "    seeds = []\n",
    "    for key in route.keys():\n",
    "        if term(key):\n",
    "            seeds.append(key)\n",
    "    \n",
    "    for seed in seeds:\n",
    "        distance, endpoint = new_goto(route, instructions, seed)\n",
    "        shortcut[seed] = (distance, endpoint)\n",
    "\n",
    "    return shortcut\n",
    "\n",
    "\n",
    "\n",
    "# def goto_full(route, instructions, starts):\n",
    "#     positions = starts.copy()\n",
    "#     n = len(positions)\n",
    "#     N = 0\n",
    "#     steplist = n*[0]\n",
    "#     seeds = starts.copy()\n",
    "\n",
    "#     done = [term(position) for position in positions]\n",
    "\n",
    "#     shortcuts = {}\n",
    "\n",
    "#     while not all(done) and N < 400:\n",
    "#         print(N)\n",
    "#         for i in range(n):\n",
    "#             if steplist[i] > N:\n",
    "#                 done[i] = False#used a shortcut\n",
    "#             else:\n",
    "#                 if positions[i] in shortcuts:\n",
    "#                     new_pos, distance = shortcuts[positions[i]]\n",
    "#                     steplist[i] += distance\n",
    "#                     done[i] = distance <= 1 \n",
    "#                 else:\n",
    "#                     new_pos = walk(route, instructions, positions[i])\n",
    "#                     shortcuts[positions[i]] = new_pos\n",
    "#                 print(positions[i],'->',new_pos)\n",
    "#                 positions[i] = new_pos\n",
    "            \n",
    "#         N += 1\n",
    "#     return N * len(instructions), positions\n",
    "\n",
    "    "
   ]
  },
  {
   "cell_type": "code",
   "execution_count": 5,
   "metadata": {},
   "outputs": [],
   "source": [
    "shortcuts = create_shortcuts(route, instructions)"
   ]
  },
  {
   "cell_type": "code",
   "execution_count": 6,
   "metadata": {},
   "outputs": [],
   "source": [
    "initials = [new_goto(route, instructions, start) for start in starts]"
   ]
  },
  {
   "cell_type": "code",
   "execution_count": 7,
   "metadata": {},
   "outputs": [],
   "source": [
    "# shortcuts #This line shows all xxZ map to themselves but I comment it out to hide input data"
   ]
  },
  {
   "cell_type": "code",
   "execution_count": 8,
   "metadata": {},
   "outputs": [],
   "source": [
    "result = math.lcm(*[val[0] for val in initials])"
   ]
  },
  {
   "cell_type": "code",
   "execution_count": 9,
   "metadata": {},
   "outputs": [
    {
     "data": {
      "text/plain": [
       "10241191004509"
      ]
     },
     "execution_count": 9,
     "metadata": {},
     "output_type": "execute_result"
    }
   ],
   "source": [
    "result"
   ]
  }
 ],
 "metadata": {
  "kernelspec": {
   "display_name": "Advent",
   "language": "python",
   "name": "python3"
  },
  "language_info": {
   "codemirror_mode": {
    "name": "ipython",
    "version": 3
   },
   "file_extension": ".py",
   "mimetype": "text/x-python",
   "name": "python",
   "nbconvert_exporter": "python",
   "pygments_lexer": "ipython3",
   "version": "3.11.5"
  }
 },
 "nbformat": 4,
 "nbformat_minor": 2
}
