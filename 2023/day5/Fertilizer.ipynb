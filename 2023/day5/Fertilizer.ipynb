{
 "cells": [
  {
   "cell_type": "code",
   "execution_count": 20,
   "metadata": {},
   "outputs": [],
   "source": [
    "import numpy as np\n",
    "import re\n",
    "import time"
   ]
  },
  {
   "cell_type": "code",
   "execution_count": 21,
   "metadata": {},
   "outputs": [
    {
     "data": {
      "text/plain": [
       "True"
      ]
     },
     "execution_count": 21,
     "metadata": {},
     "output_type": "execute_result"
    }
   ],
   "source": [
    "bool(re.match('[a-z]','a'))"
   ]
  },
  {
   "cell_type": "code",
   "execution_count": 22,
   "metadata": {},
   "outputs": [
    {
     "data": {
      "text/plain": [
       "214922730"
      ]
     },
     "execution_count": 22,
     "metadata": {},
     "output_type": "execute_result"
    }
   ],
   "source": [
    "filename = \"input\"\n",
    "file = open(filename + \".txt\")\n",
    "\n",
    "seeds = np.array(file.readline().removeprefix('seeds:').split(),dtype=int)\n",
    "file.readline()\n",
    "maps = []\n",
    "\n",
    "map = []\n",
    "\n",
    "for line in file.readlines():\n",
    "    if line == '\\n':\n",
    "        npmap = np.array(map,dtype=int)\n",
    "        slicer = np.argsort(npmap[:,1])\n",
    "        maps.append(npmap[slicer])\n",
    "    elif bool(re.match('[a-z]',line[0])):\n",
    "        map = []\n",
    "    else:\n",
    "        map.append(line.split())\n",
    "npmap = np.array(map,dtype=int)\n",
    "slicer = np.argsort(npmap[:,1])\n",
    "maps.append(npmap[slicer])\n",
    "def readmap(maps, source):\n",
    "    index = maps[:,1] <= source\n",
    "    if sum(index)==0:\n",
    "        return source\n",
    "    i = np.argmax(maps[:,1][index])\n",
    "    map = maps[i]\n",
    "    if (map[1]+map[2] <= source):\n",
    "        return source\n",
    "    else:\n",
    "        return map[0] + source - map[1] \n",
    "\n",
    "minval = np.inf\n",
    "for seed in seeds:\n",
    "    val = seed\n",
    "    # print(val,end='')\n",
    "    for map in maps:\n",
    "        val = readmap(map, val)\n",
    "        # print('-'+str(val),end='')\n",
    "    if val < minval:\n",
    "        minval = val\n",
    "minval"
   ]
  },
  {
   "cell_type": "code",
   "execution_count": 28,
   "metadata": {},
   "outputs": [
    {
     "name": "stdout",
     "output_type": "stream",
     "text": [
      "148041808, time: 0.03235936164855957\n"
     ]
    }
   ],
   "source": [
    "filename = \"input\"\n",
    "file = open(filename + \".txt\")\n",
    "\n",
    "start_time = time.time()\n",
    "\n",
    "seeds = np.array(file.readline().removeprefix('seeds:').split(),dtype=int)\n",
    "seedranges = np.array([[seeds[2*i],seeds[2*i] + seeds[2*i+1]-1] for i in range(int(len(seeds)/2))])\n",
    "\n",
    "file.readline()\n",
    "maps = []\n",
    "\n",
    "map = []\n",
    "\n",
    "for line in file.readlines():\n",
    "    if line == '\\n':\n",
    "        npmap = np.array(map,dtype=int)\n",
    "        npmap[:,2] = npmap[:,1] + npmap[:,2] -1\n",
    "        slicer = np.argsort(npmap[:,1])\n",
    "        maps.append(npmap[slicer])\n",
    "    elif bool(re.match('[a-z]',line[0])):\n",
    "        map = []\n",
    "    else:\n",
    "        map.append(line.split())\n",
    "\n",
    "npmap = np.array(map,dtype=int)\n",
    "npmap[:,2] = npmap[:,1] + npmap[:,2] -1\n",
    "slicer = np.argsort(npmap[:,1])\n",
    "maps.append(npmap[slicer])\n",
    "\n",
    "minseed = min(seedranges[:,0])\n",
    "maxseed = max(seedranges[:,1])\n",
    "\n",
    "datarange = [minseed,maxseed]\n",
    "\n",
    "seedranges = [(r[0],r[1]) for r in seedranges]\n",
    "\n",
    "result = {}\n",
    "\n",
    "def readpaths(maps, inp_range):\n",
    "    paths = {}\n",
    "    current = inp_range[0]\n",
    "    maxinp = max(maps[:,2])\n",
    "\n",
    "    if inp_range[1] <= maps[0,1] or inp_range[0] > maps[-1,2]: # full underflow or full overflow\n",
    "        missedflow = (inp_range[0],inp_range[1])\n",
    "        return {missedflow : missedflow}\n",
    "    \n",
    "    if inp_range[0] < maps[0,1]: #partial underflow\n",
    "        underflow = (inp_range[0],maps[0,1]-1)\n",
    "        paths[underflow] = underflow\n",
    "        current = maps[0,1]\n",
    "\n",
    "    while current < min(inp_range[1], maxinp):\n",
    "        index = maps[:,1] <= current\n",
    "        next = int(min(max(maps[index,2]), inp_range[1]))\n",
    "        key = (current, next)\n",
    "        val = (readmap(maps, current), readmap(maps, next))\n",
    "        paths[key] = val        \n",
    "        current = next+1\n",
    "        \n",
    "\n",
    "    if current <= inp_range[1]:\n",
    "        overflow = (current, inp_range[1])\n",
    "        paths[overflow] = overflow\n",
    "\n",
    "\n",
    "    return paths\n",
    "\n",
    "def split_paths(maps, input):\n",
    "    result = []\n",
    "    current = input[0]\n",
    "    maxinp = max(maps[:,2])\n",
    "\n",
    "    if input[1] <= maps[0,1] or input[0] > maps[-1,2]: # full underflow or full overflow\n",
    "        missedflow = (input[0],input[1])\n",
    "        return [missedflow]\n",
    "    \n",
    "    if input[0] < maps[0,1]: #partial underflow\n",
    "        underflow = (input[0],maps[0,1]-1)\n",
    "        result.append(underflow)\n",
    "        current = maps[0,1]\n",
    "\n",
    "    while current < min(input[1], maxinp):\n",
    "        index = maps[:,1] <= current\n",
    "        I = sum(index)-1\n",
    "        if current <= max(maps[index,2]):\n",
    "            next = int(min(max(maps[index,2]), input[1]))\n",
    "            key = (current, next)\n",
    "            val = (readmap(maps, current), readmap(maps, next))\n",
    "            result.append(val)     \n",
    "            current = next+1\n",
    "        else: #You are in an intermediate area\n",
    "            next = int(maps[I+1,1])-1\n",
    "            result.append((current, next))\n",
    "            current = next+1\n",
    "        \n",
    "\n",
    "        \n",
    "\n",
    "    if current <= input[1]:\n",
    "        overflow = (current, input[1])\n",
    "        result.append(overflow)\n",
    "\n",
    "    \n",
    "    return result\n",
    "\n",
    "def left_sort(input):\n",
    "    index = np.argsort([i[0] for i in input])\n",
    "    return [input[i] for i in index]\n",
    "                \n",
    "def merge_ranges(input):\n",
    "    new_list = []\n",
    "    new_list.append(input[0])\n",
    "    for subrange in input[1::]:\n",
    "        if subrange[0] <= new_list[-1][1]+1:\n",
    "            new_list[-1] = (new_list[-1][0],max(subrange[1],new_list[-1][1]))\n",
    "        else:\n",
    "            new_list.append(subrange)\n",
    "    return new_list\n",
    "\n",
    "ranges = [seedrange for seedrange in seedranges]\n",
    "for map in maps:\n",
    "    newranges = []\n",
    "    for subrange in ranges:\n",
    "        split_ranges = split_paths(map, subrange)\n",
    "        for newrange in split_ranges:\n",
    "            newranges.append(newrange)\n",
    "    ranges = newranges\n",
    "    ranges = left_sort(ranges)\n",
    "    ranges = merge_ranges(ranges)\n",
    "\n",
    "minval = np.inf\n",
    "for subrange in ranges:\n",
    "    minval = subrange[0] if subrange[0] < minval else minval\n",
    "minval\n",
    "\n",
    "end_time = time.time()\n",
    "print(f'{minval}, time: {end_time-start_time}')"
   ]
  },
  {
   "cell_type": "code",
   "execution_count": 25,
   "metadata": {},
   "outputs": [
    {
     "name": "stdout",
     "output_type": "stream",
     "text": [
      "148041808, time: 0.043244123458862305\n"
     ]
    }
   ],
   "source": [
    "print(f'{minval}, time: {end_time-start_time}')"
   ]
  }
 ],
 "metadata": {
  "kernelspec": {
   "display_name": "Advent",
   "language": "python",
   "name": "python3"
  },
  "language_info": {
   "codemirror_mode": {
    "name": "ipython",
    "version": 3
   },
   "file_extension": ".py",
   "mimetype": "text/x-python",
   "name": "python",
   "nbconvert_exporter": "python",
   "pygments_lexer": "ipython3",
   "version": "3.11.5"
  }
 },
 "nbformat": 4,
 "nbformat_minor": 2
}
