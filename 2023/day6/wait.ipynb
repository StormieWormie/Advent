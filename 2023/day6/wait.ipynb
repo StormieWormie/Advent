{
 "cells": [
  {
   "cell_type": "code",
   "execution_count": 1,
   "metadata": {},
   "outputs": [],
   "source": [
    "import numpy as np\n",
    "import re\n",
    "import time"
   ]
  },
  {
   "cell_type": "markdown",
   "metadata": {},
   "source": [
    "$$t_0 = t_h + t_r$$\n",
    "$$v = t_h$$\n",
    "$$x = v*t_r$$"
   ]
  },
  {
   "cell_type": "markdown",
   "metadata": {},
   "source": [
    "$$x = t_h * t_r = t_h * (t_0 - t_h)$$\n",
    "$$t_h^2 - t_0t_h + x = 0$$"
   ]
  },
  {
   "cell_type": "code",
   "execution_count": 31,
   "metadata": {},
   "outputs": [
    {
     "data": {
      "text/plain": [
       "4403592"
      ]
     },
     "execution_count": 31,
     "metadata": {},
     "output_type": "execute_result"
    }
   ],
   "source": [
    "filename = \"input\"\n",
    "file = open(filename+\".txt\")\n",
    "times = np.array(file.readline().removeprefix('Time:').split(),dtype=int)\n",
    "distances = np.array(file.readline().removeprefix('Distance:').split(),dtype=int)\n",
    "\n",
    "result = 1\n",
    "\n",
    "for t0,d in zip(times, distances):\n",
    "    a = 1\n",
    "    b = -t0\n",
    "    c = d\n",
    "    D = b**2 - 4*a*c\n",
    "    shift = np.sqrt(D)/(2*a)\n",
    "    base = -b/(2*a)\n",
    "\n",
    "\n",
    "\n",
    "    left = base-shift\n",
    "    if int(left) == left:\n",
    "        left += 1\n",
    "    else:\n",
    "        left = int(np.ceil(left))\n",
    "\n",
    "    right = base+shift\n",
    "    if int(right) == right:\n",
    "        right -= 1\n",
    "    else:\n",
    "        right = int(np.floor(right))\n",
    "\n",
    "    N = int(right - left + 1)\n",
    "\n",
    "    result *= N\n",
    "\n",
    "result"
   ]
  },
  {
   "cell_type": "code",
   "execution_count": 36,
   "metadata": {},
   "outputs": [
    {
     "data": {
      "text/plain": [
       "38017587"
      ]
     },
     "execution_count": 36,
     "metadata": {},
     "output_type": "execute_result"
    }
   ],
   "source": [
    "filename = \"input\"\n",
    "file = open(filename+\".txt\")\n",
    "times = file.readline().removeprefix('Time:').split()\n",
    "distances = file.readline().removeprefix('Distance:').split()\n",
    "T,X = '',''\n",
    "for t,d in zip(times, distances):\n",
    "    T+=t\n",
    "    X+=d\n",
    "t0 = int(T)\n",
    "d = int(X)\n",
    "\n",
    "a = 1\n",
    "b = -t0\n",
    "c = d\n",
    "D = b**2 - 4*a*c\n",
    "shift = np.sqrt(D)/(2*a)\n",
    "base = -b/(2*a)\n",
    "\n",
    "\n",
    "\n",
    "left = base-shift\n",
    "if int(left) == left:\n",
    "    left += 1\n",
    "else:\n",
    "    left = int(np.ceil(left))\n",
    "\n",
    "right = base+shift\n",
    "if int(right) == right:\n",
    "    right -= 1\n",
    "else:\n",
    "    right = int(np.floor(right))\n",
    "\n",
    "N = int(right - left + 1)\n",
    "\n",
    "N"
   ]
  },
  {
   "cell_type": "code",
   "execution_count": 35,
   "metadata": {},
   "outputs": [
    {
     "data": {
      "text/plain": [
       "'49979494'"
      ]
     },
     "execution_count": 35,
     "metadata": {},
     "output_type": "execute_result"
    }
   ],
   "source": [
    "T"
   ]
  }
 ],
 "metadata": {
  "kernelspec": {
   "display_name": "Advent",
   "language": "python",
   "name": "python3"
  },
  "language_info": {
   "codemirror_mode": {
    "name": "ipython",
    "version": 3
   },
   "file_extension": ".py",
   "mimetype": "text/x-python",
   "name": "python",
   "nbconvert_exporter": "python",
   "pygments_lexer": "ipython3",
   "version": "3.11.5"
  }
 },
 "nbformat": 4,
 "nbformat_minor": 2
}
