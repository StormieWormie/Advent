{
 "cells": [
  {
   "cell_type": "code",
   "execution_count": 86,
   "metadata": {},
   "outputs": [],
   "source": [
    "import numpy as np \n",
    "import re\n",
    "import copy"
   ]
  },
  {
   "cell_type": "code",
   "execution_count": 160,
   "metadata": {},
   "outputs": [],
   "source": [
    "def roll_column(col):\n",
    "    new_col = np.full_like(col,'.')\n",
    "    square = col == '#'\n",
    "    new_col[square] = '#'\n",
    "    n = len(col)\n",
    "    anchor = 0\n",
    "    for i in range(n):\n",
    "        char = col[i]\n",
    "        match char:\n",
    "            case '#':\n",
    "                anchor = i+1\n",
    "            case 'O':\n",
    "                new_col[anchor] = 'O'\n",
    "                anchor += 1\n",
    "            case '.':\n",
    "                pass\n",
    "            case default:\n",
    "                print(\"unreachable!\")\n",
    "    return new_col\n",
    "\n",
    "def roll_north(Grid):\n",
    "    New_Grid = np.empty_like(Grid)\n",
    "    N = len(New_Grid[0])\n",
    "    for i in range(N):\n",
    "        New_Grid[:,i] = roll_column(Grid[:,i])\n",
    "    return New_Grid\n",
    "\n",
    "def roll_cycle(Grid):\n",
    "    New_Grid = Grid.copy()\n",
    "    I,J = Grid.shape\n",
    "    for j in range(J):\n",
    "        New_Grid[:,j] = roll_column(New_Grid[:,j])\n",
    "    for i in range(I):\n",
    "        New_Grid[i,:] = roll_column(New_Grid[i,:])\n",
    "    for j in range(J):\n",
    "        New_Grid[::-1,j] = roll_column(New_Grid[::-1,j])\n",
    "    for i in range(I):\n",
    "        New_Grid[i,::-1] = roll_column(New_Grid[i,::-1])\n",
    "    return New_Grid\n",
    "\n",
    "def calc_load(Grid):\n",
    "    N = len(Grid)\n",
    "    Load = 0\n",
    "    for i in range(N):\n",
    "        Load += (N-i)*np.sum(Grid[i]=='O')\n",
    "    return Load\n",
    "\n",
    "def part1(Grid):\n",
    "    New_Grid = roll_north(Grid)\n",
    "    return calc_load(New_Grid)\n",
    "\n",
    "def part2(Grid, NCycles):\n",
    "    Cycle_Grid= Grid.copy()\n",
    "    History = []\n",
    "    for i in range(NCycles): #Never actually run the whole for loop, look for a break\n",
    "        New_Cycle_Grid = roll_cycle(Cycle_Grid)\n",
    "        J = len(History)\n",
    "        for j in range(J):\n",
    "            if (New_Cycle_Grid == History[j]).all():\n",
    "                # print(i, New_Cycle_Grid, History[j])\n",
    "                Cycle_length = i-j\n",
    "                resulti = j + ((NCycles-j)% Cycle_length)-1\n",
    "                print(i,j,Cycle_length,resulti)\n",
    "                return calc_load(History[resulti])\n",
    "        else:\n",
    "            History.append(New_Cycle_Grid)\n",
    "            Cycle_Grid = New_Cycle_Grid.copy()\n",
    "    return 'not found (how did you get here?)'"
   ]
  },
  {
   "cell_type": "code",
   "execution_count": 164,
   "metadata": {},
   "outputs": [],
   "source": [
    "filename = 'input'\n",
    "file = open(filename + '.txt')\n",
    "\n",
    "Grid = []\n",
    "for line in file.readlines():\n",
    "    Grid.append([char for char in line.removesuffix('\\n')])\n",
    "Grid = np.array(Grid)"
   ]
  },
  {
   "cell_type": "code",
   "execution_count": 166,
   "metadata": {},
   "outputs": [
    {
     "data": {
      "text/plain": [
       "107142"
      ]
     },
     "execution_count": 166,
     "metadata": {},
     "output_type": "execute_result"
    }
   ],
   "source": [
    "part1(Grid)"
   ]
  },
  {
   "cell_type": "code",
   "execution_count": 167,
   "metadata": {},
   "outputs": [
    {
     "name": "stdout",
     "output_type": "stream",
     "text": [
      "143 121 22 141\n"
     ]
    },
    {
     "data": {
      "text/plain": [
       "104815"
      ]
     },
     "execution_count": 167,
     "metadata": {},
     "output_type": "execute_result"
    }
   ],
   "source": [
    "Cycles = 1000000000\n",
    "part2(Grid, Cycles)"
   ]
  }
 ],
 "metadata": {
  "kernelspec": {
   "display_name": "Advent",
   "language": "python",
   "name": "python3"
  },
  "language_info": {
   "codemirror_mode": {
    "name": "ipython",
    "version": 3
   },
   "file_extension": ".py",
   "mimetype": "text/x-python",
   "name": "python",
   "nbconvert_exporter": "python",
   "pygments_lexer": "ipython3",
   "version": "3.11.5"
  }
 },
 "nbformat": 4,
 "nbformat_minor": 2
}
