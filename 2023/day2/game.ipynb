{
 "cells": [
  {
   "cell_type": "code",
   "execution_count": 1,
   "metadata": {},
   "outputs": [],
   "source": [
    "import numpy as np"
   ]
  },
  {
   "cell_type": "code",
   "execution_count": 28,
   "metadata": {},
   "outputs": [
    {
     "name": "stdout",
     "output_type": "stream",
     "text": [
      "2006 84911\n"
     ]
    }
   ],
   "source": [
    "filename = \"input\"\n",
    "\n",
    "file = open(filename+\".txt\")\n",
    "\n",
    "limits = {'red':12,'green':13,'blue':14}\n",
    "\n",
    "result1 = 0\n",
    "result2 = 0\n",
    "\n",
    "for line in file.readlines():\n",
    "    rawdata = line.removesuffix('\\n').split(':')\n",
    "    ID = rawdata[0]\n",
    "    data = rawdata[1].split(';')\n",
    "    data = [[info.split() for info in round.split(',')] for round in data]\n",
    "    bag = {'red':0,'green':0,'blue':0}\n",
    "    for round in data:\n",
    "        for pull in round:\n",
    "            key = pull[1]\n",
    "            val = int(pull[0])\n",
    "            bag[key] = val if val > bag[key] else bag[key]\n",
    "    power = 1\n",
    "    fit = True\n",
    "    for key in limits.keys():\n",
    "        if bag[key]>limits[key]:\n",
    "            fit = False\n",
    "        power *= bag[key]\n",
    "    if fit:\n",
    "        result1 += int(ID.split()[1])\n",
    "    result2 += power\n",
    "\n",
    "print(result1, result2)"
   ]
  }
 ],
 "metadata": {
  "kernelspec": {
   "display_name": "Advent",
   "language": "python",
   "name": "python3"
  },
  "language_info": {
   "codemirror_mode": {
    "name": "ipython",
    "version": 3
   },
   "file_extension": ".py",
   "mimetype": "text/x-python",
   "name": "python",
   "nbconvert_exporter": "python",
   "pygments_lexer": "ipython3",
   "version": "3.11.5"
  }
 },
 "nbformat": 4,
 "nbformat_minor": 2
}
