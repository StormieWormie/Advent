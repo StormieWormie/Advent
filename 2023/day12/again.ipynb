{
 "cells": [
  {
   "cell_type": "code",
   "execution_count": 179,
   "metadata": {},
   "outputs": [],
   "source": [
    "import numpy as np\n",
    "import re"
   ]
  },
  {
   "cell_type": "markdown",
   "metadata": {},
   "source": [
    "read and debug"
   ]
  },
  {
   "cell_type": "code",
   "execution_count": 180,
   "metadata": {},
   "outputs": [],
   "source": [
    "def process_input(line):\n",
    "    info = line.split()\n",
    "    slots = re.findall('[#/?]+',info[0])\n",
    "    values = [int(i) for i in info[1].split(',')]\n",
    "    return slots, values\n",
    "\n",
    "DEBUG = True\n",
    "def debug(*args):\n",
    "    if DEBUG:\n",
    "        print(*args)"
   ]
  },
  {
   "cell_type": "markdown",
   "metadata": {},
   "source": [
    "part 1 source"
   ]
  },
  {
   "cell_type": "code",
   "execution_count": 181,
   "metadata": {},
   "outputs": [],
   "source": [
    "def fit_value2slot(slot,value):\n",
    "    n = len(slot)\n",
    "    if n<value:\n",
    "        return 0    #doesn't fit\n",
    "    if n==value:\n",
    "        return 1    #perfectly fits\n",
    "    if '#' not in slot:\n",
    "        return 1 + (n-value)\n",
    "    mandatory = np.argwhere([s=='#' for s in slot]).flatten()\n",
    "    left,right = mandatory[0], mandatory[-1]\n",
    "    mandatory_size = 1+(right-left)\n",
    "    if mandatory_size > value:\n",
    "        return 0\n",
    "    overflow = value-mandatory_size\n",
    "    L,R = min(left,overflow),min(right,overflow)\n",
    "    return 1 + (L+R-overflow)\n",
    "\n",
    "def fit_value2slots(slots,value):\n",
    "    # print(slots,value)\n",
    "    N = len(slots)\n",
    "    if N==0:\n",
    "        return 0\n",
    "    if N==1:\n",
    "        return fit_value2slot(slots[0],value)\n",
    "    mandatory = ['#' in slot for slot in slots]\n",
    "    Nmand = sum(mandatory)\n",
    "    if Nmand > 1:\n",
    "        return 0    #Too many mandatory slots\n",
    "    if Nmand == 1:\n",
    "        I = np.argwhere(mandatory).flatten()[0]\n",
    "        return fit_value2slot(slots[I],value)\n",
    "    count = 0\n",
    "    for slot in slots:\n",
    "        n = len(slot)\n",
    "        if n >= value:\n",
    "            count += 1 + (n-value)\n",
    "    return count\n",
    "    \n",
    "def cut_slots(slots, cut):\n",
    "    N = len(slots)\n",
    "    slot = slots[0]\n",
    "    n = len(slot)\n",
    "    if n<cut:\n",
    "        print(\"Should not be reached! (cut_slots)\")\n",
    "        return None\n",
    "    elif n<=cut+1:\n",
    "        if N==1:\n",
    "            return []\n",
    "        else:\n",
    "            return slots[1:]\n",
    "    else:\n",
    "        if N==1:\n",
    "            return [slot[cut+1:]]\n",
    "        else:\n",
    "            return [slot[cut+1:]] + slots[1:]\n",
    "\n",
    "    \n",
    "\n",
    "def fit_values2slots(slots,values):\n",
    "    N = len(slots)\n",
    "    V = len(values)\n",
    "    if N==0 or V==0:\n",
    "        # print(\"Nothing to be done\", slots, values)\n",
    "        return 0\n",
    "    value = values[0]\n",
    "    if V==1:\n",
    "        return fit_value2slots(slots,value)\n",
    "    \n",
    "    worth = True\n",
    "    count = 0\n",
    "    for s in range(N):\n",
    "        slot = slots[s]\n",
    "        n = len(slot)\n",
    "        if value<=n:\n",
    "            for i in range(n-value+1):\n",
    "                misfit = False\n",
    "                cut = value+i\n",
    "                if cut < n: #if not, we are on the end of the slot so the following token is '.' \n",
    "                    if slot[cut] == '#':\n",
    "                        misfit = True #If true, the next token is '#' so value should move up as it would force the '#' to '.' (impossible)\n",
    "                if not misfit:\n",
    "                    new_slots = cut_slots(slots[s:],cut)\n",
    "                    # print('-sub_call',new_slots, values[1:])\n",
    "                    add_count = fit_values2slots(new_slots,values[1:])\n",
    "                    count += add_count\n",
    "                    # print('--sub_result',new_slots, values[1:],add_count)\n",
    "                    if add_count == 0:\n",
    "                        worth = False\n",
    "                        break\n",
    "\n",
    "                if slot[i] == '#':\n",
    "                    worth = False #If the leftmost token is mandatory, I cannot move the leftmost value to the right\n",
    "                    break\n",
    "        else:\n",
    "            pass\n",
    "            # print(value, ' doesnt fit in ', slot)\n",
    "        if '#' in slot:\n",
    "            worth = False #If there are mandatory tokens in this slot, I cannot skip it so no need to look at further slots for the leftmost value\n",
    "            break\n",
    "    return count\n",
    "\n",
    "\n",
    "    \n",
    "    "
   ]
  },
  {
   "cell_type": "code",
   "execution_count": 182,
   "metadata": {},
   "outputs": [
    {
     "name": "stdout",
     "output_type": "stream",
     "text": [
      "7134\n"
     ]
    }
   ],
   "source": [
    "filename = 'input'\n",
    "file = open(filename + '.txt')\n",
    "\n",
    "p1 = 0\n",
    "all_slots = []\n",
    "all_values = []\n",
    "for line in file.readlines():\n",
    "    slots, values = process_input(line)\n",
    "    all_slots.append(slots)\n",
    "    all_values.append(values)\n",
    "    ap1 = fit_values2slots(slots,values)\n",
    "    p1 += ap1\n",
    "print(p1)"
   ]
  }
 ],
 "metadata": {
  "kernelspec": {
   "display_name": "Advent",
   "language": "python",
   "name": "python3"
  },
  "language_info": {
   "codemirror_mode": {
    "name": "ipython",
    "version": 3
   },
   "file_extension": ".py",
   "mimetype": "text/x-python",
   "name": "python",
   "nbconvert_exporter": "python",
   "pygments_lexer": "ipython3",
   "version": "3.11.5"
  }
 },
 "nbformat": 4,
 "nbformat_minor": 2
}
