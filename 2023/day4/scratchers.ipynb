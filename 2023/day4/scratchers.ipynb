{
 "cells": [
  {
   "cell_type": "code",
   "execution_count": 1,
   "metadata": {},
   "outputs": [],
   "source": [
    "import numpy as np"
   ]
  },
  {
   "cell_type": "code",
   "execution_count": 2,
   "metadata": {},
   "outputs": [
    {
     "data": {
      "text/plain": [
       "21088"
      ]
     },
     "execution_count": 2,
     "metadata": {},
     "output_type": "execute_result"
    }
   ],
   "source": [
    "filename = \"input\"\n",
    "file = open(filename + \".txt\")\n",
    "\n",
    "result = 0\n",
    "\n",
    "for line in file.readlines():\n",
    "    data = line.split(':')[1]\n",
    "    numbers = data.split('|')\n",
    "    winning_numbers = numbers[0].split()\n",
    "    card_numbers = numbers[1].split()\n",
    "    N = 0\n",
    "    for number in card_numbers:\n",
    "        if number in winning_numbers:\n",
    "            N += 1\n",
    "    if N > 0:\n",
    "        result += 2**(N-1)\n",
    "result"
   ]
  },
  {
   "cell_type": "code",
   "execution_count": 9,
   "metadata": {},
   "outputs": [
    {
     "data": {
      "text/plain": [
       "6874754"
      ]
     },
     "execution_count": 9,
     "metadata": {},
     "output_type": "execute_result"
    }
   ],
   "source": [
    "filename = \"input\"\n",
    "file = open(filename + \".txt\")\n",
    "\n",
    "result = 0\n",
    "\n",
    "full_data = file.readlines()\n",
    "N = len(full_data)\n",
    "\n",
    "cards = np.ones(N,dtype=int)\n",
    "\n",
    "for i in range(N):\n",
    "    line = full_data[i]\n",
    "    data = line.split(':')[1]\n",
    "    numbers = data.split('|')\n",
    "    winning_numbers = numbers[0].split()\n",
    "    card_numbers = numbers[1].split()\n",
    "    score = 0\n",
    "    for number in card_numbers:\n",
    "        if number in winning_numbers:\n",
    "            score += 1\n",
    "    cards[i+1:i+1+score] += cards[i]\n",
    "    \n",
    "    \n",
    "result = sum(cards)\n",
    "result"
   ]
  }
 ],
 "metadata": {
  "kernelspec": {
   "display_name": "Advent",
   "language": "python",
   "name": "python3"
  },
  "language_info": {
   "codemirror_mode": {
    "name": "ipython",
    "version": 3
   },
   "file_extension": ".py",
   "mimetype": "text/x-python",
   "name": "python",
   "nbconvert_exporter": "python",
   "pygments_lexer": "ipython3",
   "version": "3.11.5"
  }
 },
 "nbformat": 4,
 "nbformat_minor": 2
}
