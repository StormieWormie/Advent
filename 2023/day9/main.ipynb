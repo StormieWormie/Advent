{
 "cells": [
  {
   "cell_type": "code",
   "execution_count": 4,
   "metadata": {},
   "outputs": [],
   "source": [
    "import numpy as np"
   ]
  },
  {
   "cell_type": "code",
   "execution_count": 20,
   "metadata": {},
   "outputs": [
    {
     "name": "stdout",
     "output_type": "stream",
     "text": [
      "1916822650\n"
     ]
    }
   ],
   "source": [
    "filename = \"input\"\n",
    "\n",
    "file = open(filename + '.txt')\n",
    "\n",
    "def diff(X):\n",
    "    return X[1::] - X[:-1]\n",
    "\n",
    "def foo(X):\n",
    "    if (X==0).all():\n",
    "        return 0\n",
    "    else:\n",
    "        return X[-1] + foo(diff(X))\n",
    "\n",
    "result = 0\n",
    "\n",
    "for line in file.readlines():\n",
    "    data = np.array(line.split(),dtype=int)\n",
    "    result += foo(data)\n",
    "\n",
    "print(result)"
   ]
  },
  {
   "cell_type": "code",
   "execution_count": 23,
   "metadata": {},
   "outputs": [
    {
     "name": "stdout",
     "output_type": "stream",
     "text": [
      "966\n"
     ]
    }
   ],
   "source": [
    "filename = \"input\"\n",
    "\n",
    "file = open(filename + '.txt')\n",
    "\n",
    "def bar(X):\n",
    "    if (X==0).all():\n",
    "        return 0\n",
    "    else:\n",
    "        return X[0] - bar(diff(X))\n",
    "\n",
    "result = 0\n",
    "\n",
    "for line in file.readlines():\n",
    "    data = np.array(line.split(),dtype=int)\n",
    "    result += bar(data)\n",
    "\n",
    "print(result)"
   ]
  }
 ],
 "metadata": {
  "kernelspec": {
   "display_name": "Advent",
   "language": "python",
   "name": "python3"
  },
  "language_info": {
   "codemirror_mode": {
    "name": "ipython",
    "version": 3
   },
   "file_extension": ".py",
   "mimetype": "text/x-python",
   "name": "python",
   "nbconvert_exporter": "python",
   "pygments_lexer": "ipython3",
   "version": "3.11.5"
  }
 },
 "nbformat": 4,
 "nbformat_minor": 2
}
