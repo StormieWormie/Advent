{
 "cells": [
  {
   "cell_type": "code",
   "execution_count": 27,
   "metadata": {},
   "outputs": [],
   "source": [
    "import numpy as np"
   ]
  },
  {
   "cell_type": "code",
   "execution_count": 51,
   "metadata": {},
   "outputs": [
    {
     "name": "stdout",
     "output_type": "stream",
     "text": [
      "part1:  18965440\n",
      "part2:  15862900\n"
     ]
    }
   ],
   "source": [
    "filename = 'input'\n",
    "file = open(filename + '.txt')\n",
    "\n",
    "\n",
    "data = {}\n",
    "for line in file.readlines():\n",
    "    info = line.split()\n",
    "    name = info[0].removesuffix(':')\n",
    "    data[name] = np.array([int(val.removesuffix(',')) for val in info[2::2]])\n",
    "\n",
    "ingredients = [key for key in data]\n",
    "\n",
    "def get_score(amount):\n",
    "    total_score = np.zeros_like(data[ingredients[0]])\n",
    "    for key,val in data.items():\n",
    "        total_score += val * amount[key]\n",
    "    if any(total_score < 0):\n",
    "        print(\"should not be negative\")\n",
    "    if any(total_score <= 0):\n",
    "        return 0\n",
    "    return np.prod(total_score[:-1]) \n",
    "\n",
    "\n",
    "def create_lists(max_val):\n",
    "    amounts = []\n",
    "    for x in range(max_val+1):\n",
    "        for y in range(max_val+1):\n",
    "            if 5*y > 2*x:\n",
    "                for z in range(max_val+1):\n",
    "                    if z < 4*x:\n",
    "                        rest = max_val - sum([x,y,z])\n",
    "                        if 2*rest < 5*z-y:\n",
    "                            if rest > 0:\n",
    "                                amount = {ingredients[0]:x,ingredients[1]:y,ingredients[2]:z,ingredients[3]:rest}\n",
    "                                amounts.append(amount)\n",
    "    return amounts\n",
    "\n",
    "def create_lists2(max_val):\n",
    "    amounts = []\n",
    "    for x in range(max_val+1):\n",
    "        for y in range(max_val+1):\n",
    "            if 5*y > 2*x:\n",
    "                for z in range(max_val+1):\n",
    "                    if z < 4*x:\n",
    "                        rest = max_val - sum([x,y,z])\n",
    "                        if 2*rest < 5*z-y:\n",
    "                            if rest > 0:\n",
    "                                if 5*x + 8*y + 6*z + rest == 500:\n",
    "                                    amount = {ingredients[0]:x,ingredients[1]:y,ingredients[2]:z,ingredients[3]:rest}\n",
    "                                    amounts.append(amount)\n",
    "    return amounts\n",
    "\n",
    "amounts = create_lists(100)\n",
    "amounts2 = create_lists2(100)\n",
    "result1 = 0\n",
    "result2 = 0\n",
    "for amount in amounts:\n",
    "    score = get_score(amount)\n",
    "    result1 = max(score, result1)\n",
    "for amount in amounts2:\n",
    "    score = get_score(amount)\n",
    "    result2 = max(score, result2)\n",
    "print(\"part1: \", result1)\n",
    "print(\"part2: \", result2)\n"
   ]
  }
 ],
 "metadata": {
  "kernelspec": {
   "display_name": "Advent",
   "language": "python",
   "name": "python3"
  },
  "language_info": {
   "codemirror_mode": {
    "name": "ipython",
    "version": 3
   },
   "file_extension": ".py",
   "mimetype": "text/x-python",
   "name": "python",
   "nbconvert_exporter": "python",
   "pygments_lexer": "ipython3",
   "version": "3.11.5"
  }
 },
 "nbformat": 4,
 "nbformat_minor": 2
}
