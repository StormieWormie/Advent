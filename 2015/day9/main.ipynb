{
 "cells": [
  {
   "cell_type": "code",
   "execution_count": 46,
   "metadata": {},
   "outputs": [],
   "source": [
    "import numpy as np\n",
    "from itertools import permutations"
   ]
  },
  {
   "cell_type": "code",
   "execution_count": 52,
   "metadata": {},
   "outputs": [
    {
     "data": {
      "text/plain": [
       "207"
      ]
     },
     "execution_count": 52,
     "metadata": {},
     "output_type": "execute_result"
    }
   ],
   "source": [
    "filename = 'input'\n",
    "file = open(filename + '.txt')\n",
    "\n",
    "N = 2\n",
    "scouting = True\n",
    "start = None\n",
    "distances = []\n",
    "i=0\n",
    "for line in file.readlines():\n",
    "    info = line.split()\n",
    "    if scouting:\n",
    "        if start is None:\n",
    "            start = info[0]\n",
    "        else:\n",
    "            if info[0] == start:\n",
    "                N += 1\n",
    "            else:\n",
    "                scouting = False\n",
    "    distances.append(int(info[-1]))\n",
    "    i += 1\n",
    "\n",
    "data = np.zeros((N,N),dtype=int)\n",
    "k=0\n",
    "for i in range(N):\n",
    "    for j in range(i+1,N):\n",
    "        data[i,j] = data[j,i] = distances[k]\n",
    "        k+=1\n",
    "\n",
    "dest = [i for i in range(N)]\n",
    "\n",
    "def get_distance(path):\n",
    "    n = len(path)\n",
    "    dists = [data[path[i],path[i+1]] for i in range(n-1)]\n",
    "    dists.append(data[path[-1],path[0]])\n",
    "    return sum(dists) - max(dists)\n",
    "\n",
    "result = min([get_distance(path) for path in permutations(dest)])\n",
    "result"
   ]
  },
  {
   "cell_type": "code",
   "execution_count": 54,
   "metadata": {},
   "outputs": [
    {
     "data": {
      "text/plain": [
       "804"
      ]
     },
     "execution_count": 54,
     "metadata": {},
     "output_type": "execute_result"
    }
   ],
   "source": [
    "def get_distance2(path):\n",
    "    n = len(path)\n",
    "    dists = [data[path[i],path[i+1]] for i in range(n-1)]\n",
    "    dists.append(data[path[-1],path[0]])\n",
    "    return sum(dists) - min(dists)\n",
    "\n",
    "result2 = max([get_distance2(path) for path in permutations(dest)])\n",
    "result2"
   ]
  }
 ],
 "metadata": {
  "kernelspec": {
   "display_name": "Advent",
   "language": "python",
   "name": "python3"
  },
  "language_info": {
   "codemirror_mode": {
    "name": "ipython",
    "version": 3
   },
   "file_extension": ".py",
   "mimetype": "text/x-python",
   "name": "python",
   "nbconvert_exporter": "python",
   "pygments_lexer": "ipython3",
   "version": "3.11.5"
  }
 },
 "nbformat": 4,
 "nbformat_minor": 2
}
