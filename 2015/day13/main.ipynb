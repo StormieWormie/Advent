{
 "cells": [
  {
   "cell_type": "code",
   "execution_count": 48,
   "metadata": {},
   "outputs": [],
   "source": [
    "from itertools import permutations"
   ]
  },
  {
   "cell_type": "code",
   "execution_count": 50,
   "metadata": {},
   "outputs": [
    {
     "name": "stdout",
     "output_type": "stream",
     "text": [
      "part1: 618\n",
      "part2: 601\n"
     ]
    }
   ],
   "source": [
    "filename = 'input'\n",
    "\n",
    "file = open(filename + '.txt')\n",
    "\n",
    "difference = {}\n",
    "for line in file.readlines():\n",
    "    info = line.split()\n",
    "    name1, name2,sign, val = info[0], info[-1].removesuffix('.'), 1 if info[2]=='gain' else -1, int(info[3])\n",
    "\n",
    "    if name1 not in difference:\n",
    "        difference[name1] = {}\n",
    "    difference[name1][name2] = sign * val\n",
    "\n",
    "def calc_difference(seeting):\n",
    "    score = 0\n",
    "    N = len(seeting)\n",
    "    for i in range(N):\n",
    "        name1 = seeting[i]\n",
    "        for j in [i-1,i+1 if i+1 < N else 0]:\n",
    "            name2 = seeting[j]\n",
    "            score += difference[name1][name2]\n",
    "    return score\n",
    "\n",
    "names = [name for name in difference]\n",
    "result = max([calc_difference(seeting_list) for seeting_list in permutations(names)])\n",
    "print(\"part1:\",result)\n",
    "\n",
    "names.append('me')\n",
    "difference['me'] = {}\n",
    "for name in names:\n",
    "    difference[name]['me'] = 0\n",
    "    difference['me'][name] = 0\n",
    "\n",
    "result = max([calc_difference(seeting_list) for seeting_list in permutations(names)])\n",
    "print(\"part2:\",result)"
   ]
  }
 ],
 "metadata": {
  "kernelspec": {
   "display_name": "Advent",
   "language": "python",
   "name": "python3"
  },
  "language_info": {
   "codemirror_mode": {
    "name": "ipython",
    "version": 3
   },
   "file_extension": ".py",
   "mimetype": "text/x-python",
   "name": "python",
   "nbconvert_exporter": "python",
   "pygments_lexer": "ipython3",
   "version": "3.11.5"
  }
 },
 "nbformat": 4,
 "nbformat_minor": 2
}
