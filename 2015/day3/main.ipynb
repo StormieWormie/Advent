{
 "cells": [
  {
   "cell_type": "code",
   "execution_count": 6,
   "metadata": {},
   "outputs": [
    {
     "data": {
      "text/plain": [
       "2565"
      ]
     },
     "execution_count": 6,
     "metadata": {},
     "output_type": "execute_result"
    }
   ],
   "source": [
    "file = open(\"input.txt\")\n",
    "\n",
    "directions = {0:{0:1}}\n",
    "x,y=0,0\n",
    "for char in file.readline():\n",
    "    match char:\n",
    "        case '>':\n",
    "            x+=1\n",
    "        case '<':\n",
    "            x-=1\n",
    "        case '^':\n",
    "            y+=1\n",
    "        case 'v':\n",
    "            y-=1\n",
    "    if x not in directions:\n",
    "        directions[x] = {y:1}\n",
    "    else:\n",
    "        if y not in directions[x]:\n",
    "            directions[x][y] = 1\n",
    "        else:\n",
    "            directions[x][y] += 1\n",
    "\n",
    "result = 0\n",
    "for x,val in directions.items():\n",
    "    result += len(val)\n",
    "result"
   ]
  },
  {
   "cell_type": "code",
   "execution_count": 9,
   "metadata": {},
   "outputs": [
    {
     "data": {
      "text/plain": [
       "2639"
      ]
     },
     "execution_count": 9,
     "metadata": {},
     "output_type": "execute_result"
    }
   ],
   "source": [
    "file = open(\"input.txt\")\n",
    "\n",
    "directions = {0:{0:2}}\n",
    "x,y,rx,ry=0,0,0,0\n",
    "santa = True\n",
    "instructions = file.readline()\n",
    "N = len(instructions)\n",
    "for i in range(int(N/2)):\n",
    "    char = instructions[2*i]\n",
    "    rchar = instructions[2*i+1]\n",
    "    match char:\n",
    "        case '>':\n",
    "            x+=1\n",
    "        case '<':\n",
    "            x-=1\n",
    "        case '^':\n",
    "            y+=1\n",
    "        case 'v':\n",
    "            y-=1\n",
    "    match rchar:\n",
    "        case '>':\n",
    "            rx+=1\n",
    "        case '<':\n",
    "            rx-=1\n",
    "        case '^':\n",
    "            ry+=1\n",
    "        case 'v':\n",
    "            ry-=1\n",
    "\n",
    "    if x not in directions:\n",
    "        directions[x] = {y:1}\n",
    "    else:\n",
    "        if y not in directions[x]:\n",
    "            directions[x][y] = 1\n",
    "        else:\n",
    "            directions[x][y] += 1\n",
    "    if rx not in directions:\n",
    "        directions[rx] = {ry:1}\n",
    "    else:\n",
    "        if ry not in directions[rx]:\n",
    "            directions[rx][ry] = 1\n",
    "        else:\n",
    "            directions[rx][ry] += 1\n",
    "result = 0\n",
    "for x,val in directions.items():\n",
    "    result += len(val)\n",
    "result"
   ]
  },
  {
   "cell_type": "code",
   "execution_count": 8,
   "metadata": {},
   "outputs": [
    {
     "data": {
      "text/plain": [
       "8192"
      ]
     },
     "execution_count": 8,
     "metadata": {},
     "output_type": "execute_result"
    }
   ],
   "source": [
    "N"
   ]
  }
 ],
 "metadata": {
  "kernelspec": {
   "display_name": "Advent",
   "language": "python",
   "name": "python3"
  },
  "language_info": {
   "codemirror_mode": {
    "name": "ipython",
    "version": 3
   },
   "file_extension": ".py",
   "mimetype": "text/x-python",
   "name": "python",
   "nbconvert_exporter": "python",
   "pygments_lexer": "ipython3",
   "version": "3.11.5"
  }
 },
 "nbformat": 4,
 "nbformat_minor": 2
}
