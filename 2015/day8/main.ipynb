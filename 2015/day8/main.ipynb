{
 "cells": [
  {
   "cell_type": "code",
   "execution_count": 1,
   "metadata": {},
   "outputs": [],
   "source": [
    "import re"
   ]
  },
  {
   "cell_type": "code",
   "execution_count": 2,
   "metadata": {},
   "outputs": [
    {
     "name": "stdout",
     "output_type": "stream",
     "text": [
      "1371\n"
     ]
    }
   ],
   "source": [
    "file = open(\"input.txt\")\n",
    "\n",
    "code_length = 0\n",
    "memory_length = 0\n",
    "\n",
    "\n",
    "for line in file.readlines():\n",
    "    line = line.removesuffix('\"\\n').removeprefix('\"')\n",
    "    code_length += len(line) +2  #remove newline\n",
    "    new_line = re.sub('[\\\\\\\\]([x][0-9a-f][0-9a-f]|[\\\"]|[\\\\\\\\])','h',line)\n",
    "    memory_length += len(new_line)\n",
    "\n",
    "    # print(line, '->', new_line)\n",
    "result = code_length - memory_length\n",
    "print(result)"
   ]
  },
  {
   "cell_type": "code",
   "execution_count": 3,
   "metadata": {},
   "outputs": [
    {
     "name": "stdout",
     "output_type": "stream",
     "text": [
      "2117\n"
     ]
    }
   ],
   "source": [
    "file = open(\"input.txt\")\n",
    "\n",
    "code_length = 0\n",
    "encoded_length = 0\n",
    "\n",
    "\n",
    "for line in file.readlines():\n",
    "    line = line.removesuffix('\\n')\n",
    "    code_length += len(line)  \n",
    "    new_line = re.sub(r'[\"\\\\]',r'\\\\\\g<0>',line)\n",
    "    encoded_length += len(new_line) + 2\n",
    "\n",
    "    # print(line, '->', new_line)\n",
    "    # print(len(line), '->', len(new_line)+2)\n",
    "result = encoded_length - code_length\n",
    "print(result)"
   ]
  }
 ],
 "metadata": {
  "kernelspec": {
   "display_name": "Advent",
   "language": "python",
   "name": "python3"
  },
  "language_info": {
   "codemirror_mode": {
    "name": "ipython",
    "version": 3
   },
   "file_extension": ".py",
   "mimetype": "text/x-python",
   "name": "python",
   "nbconvert_exporter": "python",
   "pygments_lexer": "ipython3",
   "version": "3.11.5"
  }
 },
 "nbformat": 4,
 "nbformat_minor": 2
}
