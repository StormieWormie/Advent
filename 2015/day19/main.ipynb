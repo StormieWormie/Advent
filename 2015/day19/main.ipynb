{
 "cells": [
  {
   "cell_type": "code",
   "execution_count": 1,
   "metadata": {},
   "outputs": [],
   "source": [
    "import re"
   ]
  },
  {
   "cell_type": "code",
   "execution_count": 11,
   "metadata": {},
   "outputs": [
    {
     "name": "stdout",
     "output_type": "stream",
     "text": [
      "['H', '=>', 'HO']\n",
      "['H', '=>', 'OH']\n",
      "['O', '=>', 'HH']\n",
      "[]\n",
      "['HOH']\n"
     ]
    }
   ],
   "source": [
    "filename = 'dummy'\n",
    "file = open(filename + '.txt')\n",
    "\n",
    "replacements = {}\n",
    "for line in file.readlines():\n",
    "    info = line.split()\n",
    "    print(info)\n",
    "    if len(info) == 0:\n",
    "        pass\n",
    "    elif len(info) == 1:\n",
    "        molecule = line.removesuffix('\\n')\n",
    "    else:\n",
    "        key, val = info[0], info[2]\n",
    "        if key in replacements:\n",
    "            replacements[key].append(val)\n",
    "        else:\n",
    "            replacements[key] = [val]\n"
   ]
  },
  {
   "cell_type": "code",
   "execution_count": 14,
   "metadata": {},
   "outputs": [
    {
     "name": "stdout",
     "output_type": "stream",
     "text": [
      "3\n"
     ]
    }
   ],
   "source": [
    "chems = []\n",
    "for key, rep_list in replacements.items():\n",
    "    for rep in rep_list:\n",
    "        chem = re.sub(key,rep,molecule)\n",
    "        if chem not in chems:\n",
    "            chems.append(chem)\n",
    "print(len(chems))"
   ]
  },
  {
   "cell_type": "code",
   "execution_count": 15,
   "metadata": {},
   "outputs": [
    {
     "data": {
      "text/plain": [
       "['HOOHO', 'OHOOH', 'HHHH']"
      ]
     },
     "execution_count": 15,
     "metadata": {},
     "output_type": "execute_result"
    }
   ],
   "source": [
    "chems"
   ]
  },
  {
   "cell_type": "code",
   "execution_count": 12,
   "metadata": {},
   "outputs": [
    {
     "data": {
      "text/plain": [
       "'HOH'"
      ]
     },
     "execution_count": 12,
     "metadata": {},
     "output_type": "execute_result"
    }
   ],
   "source": [
    "molecule"
   ]
  }
 ],
 "metadata": {
  "kernelspec": {
   "display_name": "Advent",
   "language": "python",
   "name": "python3"
  },
  "language_info": {
   "codemirror_mode": {
    "name": "ipython",
    "version": 3
   },
   "file_extension": ".py",
   "mimetype": "text/x-python",
   "name": "python",
   "nbconvert_exporter": "python",
   "pygments_lexer": "ipython3",
   "version": "3.11.5"
  }
 },
 "nbformat": 4,
 "nbformat_minor": 2
}
