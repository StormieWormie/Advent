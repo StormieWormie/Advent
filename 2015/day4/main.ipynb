{
 "cells": [
  {
   "cell_type": "code",
   "execution_count": 1,
   "metadata": {},
   "outputs": [],
   "source": [
    "import hashlib"
   ]
  },
  {
   "cell_type": "code",
   "execution_count": 2,
   "metadata": {},
   "outputs": [
    {
     "name": "stdout",
     "output_type": "stream",
     "text": [
      "1038736\n"
     ]
    }
   ],
   "source": [
    "file = open(\"input.txt\")\n",
    "\n",
    "key = file.readline()\n",
    "value = 0\n",
    "\n",
    "done = False\n",
    "while not done:\n",
    "    data = key + str(value)\n",
    "    result = hashlib.md5(data.encode()).digest().hex()\n",
    "    if result[:6] == '000000':\n",
    "        done = True\n",
    "        break\n",
    "    value += 1\n",
    "print(value)"
   ]
  }
 ],
 "metadata": {
  "kernelspec": {
   "display_name": "Advent",
   "language": "python",
   "name": "python3"
  },
  "language_info": {
   "codemirror_mode": {
    "name": "ipython",
    "version": 3
   },
   "file_extension": ".py",
   "mimetype": "text/x-python",
   "name": "python",
   "nbconvert_exporter": "python",
   "pygments_lexer": "ipython3",
   "version": "3.11.5"
  }
 },
 "nbformat": 4,
 "nbformat_minor": 2
}
