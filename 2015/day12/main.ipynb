{
 "cells": [
  {
   "cell_type": "code",
   "execution_count": 58,
   "metadata": {},
   "outputs": [],
   "source": [
    "import re\n",
    "import json"
   ]
  },
  {
   "cell_type": "code",
   "execution_count": 59,
   "metadata": {},
   "outputs": [
    {
     "name": "stdout",
     "output_type": "stream",
     "text": [
      "156366\n"
     ]
    }
   ],
   "source": [
    "file = open(\"input.txt\")\n",
    "string = file.readline()\n",
    "# string = re.sub('[{][^{\\[]*\"red\"[^}\\]]*[}]','',string)\n",
    "numbers = [int(number) for number in re.findall('[-]?[0-9]+',string)]\n",
    "print(sum(numbers))"
   ]
  },
  {
   "cell_type": "markdown",
   "metadata": {},
   "source": [
    "I failed and cheated. I am just loading Json"
   ]
  },
  {
   "cell_type": "code",
   "execution_count": 60,
   "metadata": {},
   "outputs": [
    {
     "data": {
      "text/plain": [
       "True"
      ]
     },
     "execution_count": 60,
     "metadata": {},
     "output_type": "execute_result"
    }
   ],
   "source": [
    "type(3) == int"
   ]
  },
  {
   "cell_type": "code",
   "execution_count": 61,
   "metadata": {},
   "outputs": [],
   "source": [
    "tests = ['[1,2,3]',\n",
    "         '{\"a\":2,\"b\":4}',\n",
    "         '[1,{\"c\":\"red\",\"b\":2},3]',\n",
    "         '{\"d\":\"red\",\"e\":[1,2,3,4],\"f\":5}',\n",
    "         '[1,\"red\",5]']"
   ]
  },
  {
   "cell_type": "code",
   "execution_count": 62,
   "metadata": {},
   "outputs": [
    {
     "name": "stdout",
     "output_type": "stream",
     "text": [
      "[1,2,3]\n",
      "6\n",
      "{\"a\":2,\"b\":4}\n",
      "6\n",
      "[1,{\"c\":\"red\",\"b\":2},3]\n",
      "4\n",
      "{\"d\":\"red\",\"e\":[1,2,3,4],\"f\":5}\n",
      "0\n",
      "[1,\"red\",5]\n",
      "6\n"
     ]
    }
   ],
   "source": [
    "input_obj = json.loads(string)\n",
    "\n",
    "def extract_val(input_obj):\n",
    "    match input_obj:\n",
    "        case int():\n",
    "            return input_obj\n",
    "        case str():\n",
    "            return 0\n",
    "        case list():\n",
    "            return sum([extract_val(i) for i in input_obj])\n",
    "        case dict():\n",
    "            return sum([extract_val(item) for key,item in input_obj.items()])\n",
    "        case default:\n",
    "            print(\"missing a type:\", type(input_obj))\n",
    "            return 0\n",
    "\n",
    "def extract_val2(input_obj):\n",
    "    match input_obj:\n",
    "        case int():\n",
    "            return input_obj\n",
    "        case str():\n",
    "            return 0\n",
    "        case list():\n",
    "            return sum([extract_val2(i) for i in input_obj])\n",
    "        case dict():\n",
    "            items = [item for key,item in input_obj.items()]\n",
    "            if 'red' in items:\n",
    "                return 0\n",
    "            else:\n",
    "                return sum([extract_val2(item) for item in items])\n",
    "        case default:\n",
    "            print(\"missing a type:\", type(input_obj))\n",
    "            return 0   \n",
    "             \n",
    "for test in tests:\n",
    "    obj = json.loads(test)\n",
    "    print(test)\n",
    "    print(extract_val2(obj))"
   ]
  },
  {
   "cell_type": "code",
   "execution_count": 63,
   "metadata": {},
   "outputs": [
    {
     "data": {
      "text/plain": [
       "96852"
      ]
     },
     "execution_count": 63,
     "metadata": {},
     "output_type": "execute_result"
    }
   ],
   "source": [
    "extract_val2(input_obj)"
   ]
  }
 ],
 "metadata": {
  "kernelspec": {
   "display_name": "Advent",
   "language": "python",
   "name": "python3"
  },
  "language_info": {
   "codemirror_mode": {
    "name": "ipython",
    "version": 3
   },
   "file_extension": ".py",
   "mimetype": "text/x-python",
   "name": "python",
   "nbconvert_exporter": "python",
   "pygments_lexer": "ipython3",
   "version": "3.11.5"
  }
 },
 "nbformat": 4,
 "nbformat_minor": 2
}
