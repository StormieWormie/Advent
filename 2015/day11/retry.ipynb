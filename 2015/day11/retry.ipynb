{
 "cells": [
  {
   "cell_type": "code",
   "execution_count": 87,
   "metadata": {},
   "outputs": [],
   "source": [
    "import re\n",
    "import numpy as np"
   ]
  },
  {
   "cell_type": "code",
   "execution_count": null,
   "metadata": {},
   "outputs": [],
   "source": []
  },
  {
   "cell_type": "code",
   "execution_count": 100,
   "metadata": {},
   "outputs": [],
   "source": [
    "def string2num(string):\n",
    "    return [ord(char) for char in string]\n",
    "\n",
    "def num2string(numbers):\n",
    "    key = ''\n",
    "    for number in numbers:\n",
    "        key += chr(number)\n",
    "    return key\n",
    "\n",
    "def preproccess(numbers):\n",
    "    new_numbers = numbers.copy()\n",
    "    n = len(numbers)\n",
    "    padding = False\n",
    "    for i in range(n):\n",
    "        if padding:\n",
    "            new_numbers[i] = ord('a')\n",
    "        else:\n",
    "            if numbers[i] in [ord(char) for char in 'ilo']:\n",
    "                new_numbers[i] = numbers[i] + 1\n",
    "                padding = True\n",
    "            else:\n",
    "                new_numbers[i] = numbers[i]\n",
    "    return new_numbers\n",
    "\n",
    "\n",
    "\n",
    "def rule1(numbs):\n",
    "    n = len(numbs)\n",
    "    for i in range(n-2):\n",
    "        if numbs[i+1] == numbs[i] + 1:\n",
    "            if numbs[i+2] == numbs[i] + 2:\n",
    "                return True\n",
    "    return False\n",
    "\n",
    "def rule2(numbs):\n",
    "    for number in numbs:\n",
    "        if number in [ord(char) for char in 'ilo']:\n",
    "            return False\n",
    "    return True\n",
    "\n",
    "def count_doubles(numbs):\n",
    "    doubles = {}\n",
    "    n = len(numbs)\n",
    "    for i in range(n-1):\n",
    "        if numbs[i] == numbs[i+1]:\n",
    "            doubles[numbs[i]] = 1\n",
    "    return len(doubles)\n",
    "\n",
    "def rule3(numbs):\n",
    "    N = count_doubles(numbs)\n",
    "    return N >= 2\n",
    "\n",
    "def increment(numbers):\n",
    "    new_numbers = numbers.copy()\n",
    "    if new_numbers[-1] == ord('z'):\n",
    "        return increment(new_numbers[:-1]) + [ord('a')]\n",
    "    if new_numbers[-1] in [ord(char) for char in 'ilo']:\n",
    "        new_numbers[-1] += 2\n",
    "        return new_numbers\n",
    "    new_numbers[-1] += 1\n",
    "    return new_numbers\n",
    "\n",
    "def new_password(key, nmax = np.inf):\n",
    "    numbers = string2num(key)\n",
    "    numbers = preproccess(numbers)\n",
    "    done = False\n",
    "    iter = 0\n",
    "    while not done and iter < nmax:\n",
    "        numbers = increment(numbers)\n",
    "        if rule1(numbers):\n",
    "            if rule3(numbers):\n",
    "                done = True\n",
    "        iter += 1\n",
    "    print(iter)\n",
    "    return num2string(numbers)\n"
   ]
  },
  {
   "cell_type": "code",
   "execution_count": 101,
   "metadata": {},
   "outputs": [
    {
     "name": "stdout",
     "output_type": "stream",
     "text": [
      "142138\n"
     ]
    },
    {
     "data": {
      "text/plain": [
       "'vzbxxyzz'"
      ]
     },
     "execution_count": 101,
     "metadata": {},
     "output_type": "execute_result"
    }
   ],
   "source": [
    "key = 'vzbxkghb'\n",
    "new_key = new_password(key, 1000000)\n",
    "new_key"
   ]
  },
  {
   "cell_type": "code",
   "execution_count": 102,
   "metadata": {},
   "outputs": [
    {
     "name": "stdout",
     "output_type": "stream",
     "text": [
      "585123\n"
     ]
    },
    {
     "data": {
      "text/plain": [
       "'vzcaabcc'"
      ]
     },
     "execution_count": 102,
     "metadata": {},
     "output_type": "execute_result"
    }
   ],
   "source": [
    "new_new_key = new_password(new_key, 1000000)\n",
    "new_new_key"
   ]
  },
  {
   "cell_type": "code",
   "execution_count": 99,
   "metadata": {},
   "outputs": [
    {
     "data": {
      "text/plain": [
       "False"
      ]
     },
     "execution_count": 99,
     "metadata": {},
     "output_type": "execute_result"
    }
   ],
   "source": [
    "rule1(string2num(new_key))"
   ]
  },
  {
   "cell_type": "code",
   "execution_count": 72,
   "metadata": {},
   "outputs": [
    {
     "data": {
      "text/plain": [
       "(True, True, True)"
      ]
     },
     "execution_count": 72,
     "metadata": {},
     "output_type": "execute_result"
    }
   ],
   "source": [
    "test_key = 'ghjaabcc'\n",
    "test = string2num(test_key)\n",
    "rule1(test), rule2(test), rule3(test)"
   ]
  },
  {
   "cell_type": "code",
   "execution_count": 15,
   "metadata": {},
   "outputs": [
    {
     "data": {
      "text/plain": [
       "[105, 111, 108]"
      ]
     },
     "execution_count": 15,
     "metadata": {},
     "output_type": "execute_result"
    }
   ],
   "source": [
    "[ord(char) for char in 'iol']"
   ]
  },
  {
   "cell_type": "code",
   "execution_count": 24,
   "metadata": {},
   "outputs": [
    {
     "data": {
      "text/plain": [
       "([0, 2, 3], [2, 2, 3])"
      ]
     },
     "execution_count": 24,
     "metadata": {},
     "output_type": "execute_result"
    }
   ],
   "source": [
    "y = x.copy()\n",
    "y[0] = 2\n",
    "x,y"
   ]
  },
  {
   "cell_type": "code",
   "execution_count": 30,
   "metadata": {},
   "outputs": [
    {
     "data": {
      "text/plain": [
       "[0, 1, 2, 3, 4, 5, 6, 7, 8, 9]"
      ]
     },
     "execution_count": 30,
     "metadata": {},
     "output_type": "execute_result"
    }
   ],
   "source": [
    "z = [i for i in range(10)]\n",
    "x = z[:-1]\n",
    "x[0] = 1\n",
    "z"
   ]
  },
  {
   "cell_type": "code",
   "execution_count": null,
   "metadata": {},
   "outputs": [],
   "source": []
  },
  {
   "cell_type": "code",
   "execution_count": 86,
   "metadata": {},
   "outputs": [
    {
     "ename": "TypeError",
     "evalue": "'>' not supported between instances of 'int' and 'NoneType'",
     "output_type": "error",
     "traceback": [
      "\u001b[0;31m---------------------------------------------------------------------------\u001b[0m",
      "\u001b[0;31mTypeError\u001b[0m                                 Traceback (most recent call last)",
      "\u001b[1;32m/mnt/d/Documents/Personal_Projects/Advent/2015/day11/retry.ipynb Cell 10\u001b[0m line \u001b[0;36m1\n\u001b[0;32m----> <a href='vscode-notebook-cell://wsl%2Bubuntu-22.04/mnt/d/Documents/Personal_Projects/Advent/2015/day11/retry.ipynb#X10sdnNjb2RlLXJlbW90ZQ%3D%3D?line=0'>1</a>\u001b[0m \u001b[39m3\u001b[39;49m \u001b[39m>\u001b[39;49m \u001b[39mNone\u001b[39;49;00m\n",
      "\u001b[0;31mTypeError\u001b[0m: '>' not supported between instances of 'int' and 'NoneType'"
     ]
    }
   ],
   "source": [
    "\n",
    "3 > None"
   ]
  }
 ],
 "metadata": {
  "kernelspec": {
   "display_name": "Advent",
   "language": "python",
   "name": "python3"
  },
  "language_info": {
   "codemirror_mode": {
    "name": "ipython",
    "version": 3
   },
   "file_extension": ".py",
   "mimetype": "text/x-python",
   "name": "python",
   "nbconvert_exporter": "python",
   "pygments_lexer": "ipython3",
   "version": "3.11.5"
  }
 },
 "nbformat": 4,
 "nbformat_minor": 2
}
