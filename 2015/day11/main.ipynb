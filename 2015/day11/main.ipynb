{
 "cells": [
  {
   "cell_type": "code",
   "execution_count": 1,
   "metadata": {},
   "outputs": [],
   "source": [
    "import re"
   ]
  },
  {
   "cell_type": "code",
   "execution_count": 2,
   "metadata": {},
   "outputs": [],
   "source": [
    "def rule2(key):\n",
    "    if bool(re.search(r'[iol]',key)):\n",
    "        return False\n",
    "    else:\n",
    "        return True\n",
    "\n",
    "def inc(char):\n",
    "    if char == 'z':\n",
    "        return 'a'\n",
    "    else:\n",
    "        result = chr(ord(char)+1)\n",
    "        if rule2(result):\n",
    "            return result\n",
    "        else:\n",
    "            return inc(result)\n",
    "\n",
    "def subseq(string):\n",
    "    a = string[0]\n",
    "    b = string[1]\n",
    "    c = string[2]\n",
    "    if b == chr(ord(a)+1) and c == chr(ord(b)+1):\n",
    "        return True\n",
    "\n",
    "def rule1(key):\n",
    "    for i in range(len(key)-2):\n",
    "        if subseq(key[i:i+3]):\n",
    "            return True\n",
    "    return False\n",
    "\n",
    "\n",
    "\n",
    "def count_doubles(key):\n",
    "    found =  re.findall(r'([a-z])\\1',key)\n",
    "    if bool(found):\n",
    "        if len(found) > 1:\n",
    "            N = 0\n",
    "            for i in range(len(found)):\n",
    "                if found[i] not in found[0:i]:\n",
    "                    N += 1\n",
    "            return N\n",
    "        else:\n",
    "            return 1\n",
    "    else:\n",
    "        return 0\n",
    "\n",
    "def rule3(key):\n",
    "    return count_doubles(key) >= 2\n",
    "\n",
    "def prep(key):\n",
    "    if rule2(key):\n",
    "        return key\n",
    "    new_key = ''\n",
    "    for char in key:\n",
    "        if rule2(char):\n",
    "            new_key += char\n",
    "        else:\n",
    "            new_key += inc(char)\n",
    "            break\n",
    "    new_key += (len(key) - len(new_key)) * 'a'\n",
    "    return new_key\n"
   ]
  },
  {
   "cell_type": "code",
   "execution_count": 3,
   "metadata": {},
   "outputs": [],
   "source": [
    "def check_password(key):\n",
    "    return rule1(key) and rule2(key) and rule3(key)"
   ]
  },
  {
   "cell_type": "code",
   "execution_count": 4,
   "metadata": {},
   "outputs": [],
   "source": [
    "def increment(key):\n",
    "    if bool(re.fullmatch(r'[z]*',key)):\n",
    "        return len(key)*'a'\n",
    "    if key[-1] == 'z':\n",
    "        return increment(key[0:-1]) + 'a'\n",
    "    else:\n",
    "        return key[0:-1] + inc(key[-1])\n",
    "\n",
    "def smart_increment(key):\n",
    "    if not rule1(key[0:-1]):\n",
    "        diff = ord(key[-2]) - ord(key[-3])\n",
    "        if diff == 1:\n",
    "            diff2 = ord(key[-1]) - ord(key[-2])\n",
    "            if diff2 > 0:\n",
    "                seed = increment(key[0:-2])\n",
    "                seed += inc(seed[-1])\n",
    "                seed += inc(seed[-1])         \n",
    "                return seed\n",
    "    \n",
    "    return increment(key)"
   ]
  },
  {
   "cell_type": "code",
   "execution_count": 6,
   "metadata": {},
   "outputs": [
    {
     "name": "stdout",
     "output_type": "stream",
     "text": [
      "vzbxxyzz\n"
     ]
    }
   ],
   "source": [
    "file = open(\"key.txt\")\n",
    "key = file.readline()\n",
    "key = prep(key)\n",
    "\n",
    "def next(key):\n",
    "    while not check_password(key):\n",
    "        key = smart_increment(key)\n",
    "    return key\n",
    "key = next(key)\n",
    "print(key)"
   ]
  },
  {
   "cell_type": "code",
   "execution_count": 7,
   "metadata": {},
   "outputs": [
    {
     "name": "stdout",
     "output_type": "stream",
     "text": [
      "vzccaabc\n"
     ]
    }
   ],
   "source": [
    "key = increment(key)\n",
    "key = next(key)\n",
    "print(key)"
   ]
  }
 ],
 "metadata": {
  "kernelspec": {
   "display_name": "Advent",
   "language": "python",
   "name": "python3"
  },
  "language_info": {
   "codemirror_mode": {
    "name": "ipython",
    "version": 3
   },
   "file_extension": ".py",
   "mimetype": "text/x-python",
   "name": "python",
   "nbconvert_exporter": "python",
   "pygments_lexer": "ipython3",
   "version": "3.11.5"
  }
 },
 "nbformat": 4,
 "nbformat_minor": 2
}
