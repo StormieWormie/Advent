{
 "cells": [
  {
   "cell_type": "code",
   "execution_count": 2,
   "metadata": {},
   "outputs": [],
   "source": [
    "import numpy as np"
   ]
  },
  {
   "cell_type": "code",
   "execution_count": 19,
   "metadata": {},
   "outputs": [
    {
     "name": "stdout",
     "output_type": "stream",
     "text": [
      "part1:  103\n"
     ]
    }
   ],
   "source": [
    "TT_file = open('ticker_tape.txt')\n",
    "\n",
    "ticker_tape = {}\n",
    "for line in TT_file.readlines():\n",
    "    info = line.split()\n",
    "    ticker_tape[info[0].removesuffix(':')] = int(info[1])\n",
    "\n",
    "file = open('input.txt')\n",
    "result1 = 0\n",
    "for line in file.readlines():\n",
    "    info = line.split()\n",
    "    found = True\n",
    "    index = info[1].removesuffix(':')\n",
    "    for propp, vall in zip(info[2::2],info[3::2]):\n",
    "        prop = propp.removesuffix(':')\n",
    "        val = vall.removesuffix(',')\n",
    "        if int(val) == ticker_tape[prop]:\n",
    "            pass\n",
    "        else:\n",
    "            found = False\n",
    "            break\n",
    "    if found:\n",
    "        result1= int(index)\n",
    "        break\n",
    "print('part1: ', result1)"
   ]
  },
  {
   "cell_type": "code",
   "execution_count": 18,
   "metadata": {},
   "outputs": [
    {
     "name": "stdout",
     "output_type": "stream",
     "text": [
      "part2:  405\n"
     ]
    }
   ],
   "source": [
    "TT_file = open('ticker_tape.txt')\n",
    "\n",
    "ticker_tape = {}\n",
    "for line in TT_file.readlines():\n",
    "    info = line.split()\n",
    "    ticker_tape[info[0].removesuffix(':')] = int(info[1])\n",
    "\n",
    "file = open('input.txt')\n",
    "result1 = 0\n",
    "for line in file.readlines():\n",
    "    info = line.split()\n",
    "    found = True\n",
    "    index = info[1].removesuffix(':')\n",
    "    for propp, vall in zip(info[2::2],info[3::2]):\n",
    "        prop = propp.removesuffix(':')\n",
    "        val = vall.removesuffix(',')\n",
    "        if prop in ['cats','trees']:\n",
    "            if int(val) > ticker_tape[prop]:\n",
    "                pass\n",
    "            else:\n",
    "                found = False\n",
    "                break\n",
    "        elif prop in ['pomeranians','goldfish']:\n",
    "            if int(val) < ticker_tape[prop]:\n",
    "                pass\n",
    "            else:\n",
    "                found = False\n",
    "                break\n",
    "        else:\n",
    "            if int(val) == ticker_tape[prop]:\n",
    "                pass\n",
    "            else:\n",
    "                found = False\n",
    "                break\n",
    "    if found:\n",
    "        result1= int(index)\n",
    "        break\n",
    "print('part2: ', result1)"
   ]
  }
 ],
 "metadata": {
  "kernelspec": {
   "display_name": "Advent",
   "language": "python",
   "name": "python3"
  },
  "language_info": {
   "codemirror_mode": {
    "name": "ipython",
    "version": 3
   },
   "file_extension": ".py",
   "mimetype": "text/x-python",
   "name": "python",
   "nbconvert_exporter": "python",
   "pygments_lexer": "ipython3",
   "version": "3.11.5"
  }
 },
 "nbformat": 4,
 "nbformat_minor": 2
}
