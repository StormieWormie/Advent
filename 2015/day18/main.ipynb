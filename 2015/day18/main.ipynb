{
 "cells": [
  {
   "cell_type": "code",
   "execution_count": 2,
   "metadata": {},
   "outputs": [],
   "source": [
    "import numpy as np\n",
    "import matplotlib.pyplot as plt"
   ]
  },
  {
   "cell_type": "code",
   "execution_count": 69,
   "metadata": {},
   "outputs": [],
   "source": [
    "def fix_corners(Grid):\n",
    "    new_Grid = Grid\n",
    "    for i in [0,-1]:\n",
    "        for j in [0,-1]:\n",
    "            new_Grid[i,j] = 1\n",
    "    return new_Grid\n",
    "\n",
    "def update(Grid):\n",
    "    Neighbours = np.zeros_like(Grid)\n",
    "    Neighbours[1:,:] += Grid[:-1,:] #N\n",
    "    Neighbours[:,:-1] += Grid[:,1:] #E\n",
    "    Neighbours[:-1,:] += Grid[1:,:] #S\n",
    "    Neighbours[:,1:] += Grid[:,:-1] #W\n",
    "    Neighbours[1:,:-1] += Grid[:-1,1:] #NE\n",
    "    Neighbours[:-1,:-1] += Grid[1:,1:] #SE\n",
    "    Neighbours[:-1,1:] += Grid[1:,:-1] #SW\n",
    "    Neighbours[1:,1:] += Grid[:-1,:-1] #NW\n",
    "\n",
    "    two = Neighbours == 2\n",
    "    three = Neighbours == 3\n",
    "    on = Grid == 1\n",
    "    new_Grid = np.zeros_like(Grid)\n",
    "    new_Grid[three] = 1\n",
    "    new_Grid[two] = Grid[two]\n",
    "    return new_Grid\n",
    "\n",
    "def update2(Grid):\n",
    "    Neighbours = np.zeros_like(Grid)\n",
    "    Neighbours[1:,:] += Grid[:-1,:] #N\n",
    "    Neighbours[:,:-1] += Grid[:,1:] #E\n",
    "    Neighbours[:-1,:] += Grid[1:,:] #S\n",
    "    Neighbours[:,1:] += Grid[:,:-1] #W\n",
    "    Neighbours[1:,:-1] += Grid[:-1,1:] #NE\n",
    "    Neighbours[:-1,:-1] += Grid[1:,1:] #SE\n",
    "    Neighbours[:-1,1:] += Grid[1:,:-1] #SW\n",
    "    Neighbours[1:,1:] += Grid[:-1,:-1] #NW\n",
    "\n",
    "    two = Neighbours == 2\n",
    "    three = Neighbours == 3\n",
    "    on = Grid == 1\n",
    "    new_Grid = np.zeros_like(Grid)\n",
    "    new_Grid[three] = 1\n",
    "    new_Grid[two] = Grid[two]\n",
    "    for i in [0,-1]:\n",
    "        for j in [0,-1]:\n",
    "            new_Grid[i,j] = 1\n",
    "    return new_Grid"
   ]
  },
  {
   "cell_type": "code",
   "execution_count": 70,
   "metadata": {},
   "outputs": [],
   "source": [
    "filename = 'input'\n",
    "file = open(filename + '.txt')\n",
    "\n",
    "enum = {'.':0,'#':1}\n",
    "\n",
    "Grid = []\n",
    "for line in file.readlines():\n",
    "    Grid.append([enum[char] for char in line.removesuffix('\\n')])\n",
    "Grid = np.array(Grid)"
   ]
  },
  {
   "cell_type": "code",
   "execution_count": 71,
   "metadata": {},
   "outputs": [
    {
     "name": "stdout",
     "output_type": "stream",
     "text": [
      "1061\n"
     ]
    }
   ],
   "source": [
    "steps = 100\n",
    "for step in range(steps):\n",
    "    Grid = update(Grid)\n",
    "print(np.sum(Grid))"
   ]
  },
  {
   "cell_type": "code",
   "execution_count": 82,
   "metadata": {},
   "outputs": [],
   "source": [
    "filename = 'input'\n",
    "file = open(filename + '.txt')\n",
    "\n",
    "enum = {'.':0,'#':1}\n",
    "\n",
    "Grid = []\n",
    "for line in file.readlines():\n",
    "    Grid.append([enum[char] for char in line.removesuffix('\\n')])\n",
    "Grid = np.array(Grid)\n",
    "Grid = fix_corners(Grid)"
   ]
  },
  {
   "cell_type": "code",
   "execution_count": 83,
   "metadata": {},
   "outputs": [
    {
     "name": "stdout",
     "output_type": "stream",
     "text": [
      "1006\n"
     ]
    }
   ],
   "source": [
    "steps = 100\n",
    "for step in range(steps):\n",
    "    Grid = update2(Grid)\n",
    "print(np.sum(Grid))"
   ]
  },
  {
   "cell_type": "code",
   "execution_count": null,
   "metadata": {},
   "outputs": [],
   "source": []
  }
 ],
 "metadata": {
  "kernelspec": {
   "display_name": "Advent",
   "language": "python",
   "name": "python3"
  },
  "language_info": {
   "codemirror_mode": {
    "name": "ipython",
    "version": 3
   },
   "file_extension": ".py",
   "mimetype": "text/x-python",
   "name": "python",
   "nbconvert_exporter": "python",
   "pygments_lexer": "ipython3",
   "version": "3.11.5"
  }
 },
 "nbformat": 4,
 "nbformat_minor": 2
}
