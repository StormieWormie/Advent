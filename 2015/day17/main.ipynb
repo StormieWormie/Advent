{
 "cells": [
  {
   "cell_type": "code",
   "execution_count": 1,
   "metadata": {},
   "outputs": [],
   "source": [
    "import numpy as np"
   ]
  },
  {
   "cell_type": "code",
   "execution_count": 28,
   "metadata": {},
   "outputs": [],
   "source": [
    "def spread(containers, Volume):\n",
    "    # print('CALL', Volume, containers)\n",
    "    count = 0\n",
    "    C = len(containers)\n",
    "    for c in range(C):\n",
    "        container = containers[c]\n",
    "        if container == Volume:\n",
    "            count += 1\n",
    "        if container < Volume:\n",
    "            if c!=C-1:\n",
    "                count += spread(containers[c+1:],Volume-container)\n",
    "    return count\n",
    "\n",
    "def spread_count(containers, Volume, maxC=np.inf):\n",
    "    if maxC == 0:\n",
    "        return 0,0\n",
    "    local_min = maxC\n",
    "    count = 0\n",
    "    C = len(containers)\n",
    "    for c in range(C):\n",
    "        container = containers[c]\n",
    "        if container == Volume:\n",
    "            if local_min!=1:\n",
    "                local_min = 1\n",
    "                count = 1\n",
    "            else:\n",
    "                count += 1\n",
    "        if container < Volume:\n",
    "            if local_min==1: #All equal size containers are passed so the loop can end\n",
    "                break\n",
    "            else:\n",
    "                if c!=C-1:\n",
    "                    new_count, found_min = spread_count(containers[c+1::],Volume-container,local_min-1)\n",
    "                    new_local_min = found_min+1\n",
    "                    if new_local_min < local_min:\n",
    "                        local_min = new_local_min\n",
    "                        count = new_count\n",
    "                    elif new_local_min==local_min:\n",
    "                        count += new_count\n",
    "    return count, local_min\n",
    "            \n"
   ]
  },
  {
   "cell_type": "code",
   "execution_count": 36,
   "metadata": {},
   "outputs": [],
   "source": [
    "filename = 'input'\n",
    "file = open(filename + '.txt')\n",
    "\n",
    "containers = np.sort([int(line) for line in file.readlines()])[::-1]\n",
    "\n",
    "Volume = 150"
   ]
  },
  {
   "cell_type": "code",
   "execution_count": 37,
   "metadata": {},
   "outputs": [
    {
     "name": "stdout",
     "output_type": "stream",
     "text": [
      "654 57\n"
     ]
    }
   ],
   "source": [
    "p1, (p2, p3) = spread(containers, Volume), spread_count(containers,Volume)\n",
    "print(p1,p2)"
   ]
  },
  {
   "cell_type": "code",
   "execution_count": 38,
   "metadata": {},
   "outputs": [
    {
     "data": {
      "text/plain": [
       "4"
      ]
     },
     "execution_count": 38,
     "metadata": {},
     "output_type": "execute_result"
    }
   ],
   "source": [
    "p3"
   ]
  },
  {
   "cell_type": "code",
   "execution_count": 26,
   "metadata": {},
   "outputs": [
    {
     "ename": "TypeError",
     "evalue": "'tuple' object does not support item assignment",
     "output_type": "error",
     "traceback": [
      "\u001b[0;31m---------------------------------------------------------------------------\u001b[0m",
      "\u001b[0;31mTypeError\u001b[0m                                 Traceback (most recent call last)",
      "Cell \u001b[0;32mIn[26], line 2\u001b[0m\n\u001b[1;32m      1\u001b[0m count \u001b[38;5;241m=\u001b[39m (\u001b[38;5;241m0\u001b[39m,\u001b[38;5;241m0\u001b[39m)\n\u001b[0;32m----> 2\u001b[0m \u001b[43mcount\u001b[49m\u001b[43m[\u001b[49m\u001b[38;5;241;43m0\u001b[39;49m\u001b[43m]\u001b[49m \u001b[38;5;241m=\u001b[39m \u001b[38;5;241m1\u001b[39m\n",
      "\u001b[0;31mTypeError\u001b[0m: 'tuple' object does not support item assignment"
     ]
    }
   ],
   "source": [
    "count = (0,0)\n",
    "count[0] = 1"
   ]
  },
  {
   "cell_type": "code",
   "execution_count": 27,
   "metadata": {},
   "outputs": [
    {
     "ename": "UnboundLocalError",
     "evalue": "cannot access local variable 'a' where it is not associated with a value",
     "output_type": "error",
     "traceback": [
      "\u001b[0;31m---------------------------------------------------------------------------\u001b[0m",
      "\u001b[0;31mUnboundLocalError\u001b[0m                         Traceback (most recent call last)",
      "Cell \u001b[0;32mIn[27], line 4\u001b[0m\n\u001b[1;32m      2\u001b[0m     a \u001b[38;5;241m-\u001b[39m\u001b[38;5;241m=\u001b[39m \u001b[38;5;241m1\u001b[39m\n\u001b[1;32m      3\u001b[0m     \u001b[38;5;28mprint\u001b[39m(a)\n\u001b[0;32m----> 4\u001b[0m \u001b[43ma\u001b[49m\u001b[43m(\u001b[49m\u001b[38;5;241;43m1\u001b[39;49m\u001b[43m)\u001b[49m\n",
      "Cell \u001b[0;32mIn[27], line 2\u001b[0m, in \u001b[0;36ma\u001b[0;34m(x)\u001b[0m\n\u001b[1;32m      1\u001b[0m \u001b[38;5;28;01mdef\u001b[39;00m \u001b[38;5;21ma\u001b[39m(x):\n\u001b[0;32m----> 2\u001b[0m     \u001b[43ma\u001b[49m \u001b[38;5;241m-\u001b[39m\u001b[38;5;241m=\u001b[39m \u001b[38;5;241m1\u001b[39m\n\u001b[1;32m      3\u001b[0m     \u001b[38;5;28mprint\u001b[39m(a)\n",
      "\u001b[0;31mUnboundLocalError\u001b[0m: cannot access local variable 'a' where it is not associated with a value"
     ]
    }
   ],
   "source": [
    "def a(x):\n",
    "    a -= 1\n",
    "    print(a)\n",
    "a(1)"
   ]
  }
 ],
 "metadata": {
  "kernelspec": {
   "display_name": "Advent",
   "language": "python",
   "name": "python3"
  },
  "language_info": {
   "codemirror_mode": {
    "name": "ipython",
    "version": 3
   },
   "file_extension": ".py",
   "mimetype": "text/x-python",
   "name": "python",
   "nbconvert_exporter": "python",
   "pygments_lexer": "ipython3",
   "version": "3.11.5"
  }
 },
 "nbformat": 4,
 "nbformat_minor": 2
}
