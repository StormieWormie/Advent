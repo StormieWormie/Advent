{
 "cells": [
  {
   "cell_type": "code",
   "execution_count": 33,
   "metadata": {},
   "outputs": [],
   "source": [
    "import numpy as np"
   ]
  },
  {
   "cell_type": "code",
   "execution_count": 58,
   "metadata": {},
   "outputs": [
    {
     "name": "stdout",
     "output_type": "stream",
     "text": [
      "part1:  2660\n",
      "part2:  1256\n"
     ]
    }
   ],
   "source": [
    "file = open(\"input.txt\")\n",
    "\n",
    "reindeer = {}\n",
    "\n",
    "for line in file.readlines():\n",
    "    info = line.split()\n",
    "    name, speed, runtime, resttime = info[0], int(info[3]), int(info[6]), int(info[-2])\n",
    "    reindeer[name] = [speed,runtime,resttime]\n",
    "\n",
    "time = 2503\n",
    "def distance(stats, time):\n",
    "    d = 0\n",
    "    cycle_distance = stats[0]*stats[1]\n",
    "    cycle_time = stats[1] + stats[2]\n",
    "    cycles, rest = divmod(time, cycle_time)\n",
    "    d = cycles * cycle_distance\n",
    "    d += stats[0] * (rest if rest < stats[1] else stats[1])\n",
    "    return d\n",
    "\n",
    "score = {}\n",
    "position = {}\n",
    "score2 = {}\n",
    "\n",
    "result1 = 0\n",
    "result2 = 0\n",
    "for name,stats in reindeer.items():\n",
    "    d = distance(stats, time)\n",
    "    if d > result1:\n",
    "        result1 = d\n",
    "    score[name] = d\n",
    "    pos = []\n",
    "    T = 0\n",
    "    D = 0\n",
    "    cycle_time = stats[1] + stats[2]\n",
    "    while T < time:\n",
    "        pos += [D + (i+1)*stats[0] for i in range(stats[1])]\n",
    "        D = pos[-1]\n",
    "        pos += stats[2]*[D]\n",
    "        T += cycle_time\n",
    "    position[name] = pos[:time]\n",
    "\n",
    "for key in position:\n",
    "    position[key] = np.array(position[key])\n",
    "\n",
    "lead = np.zeros(time,dtype=int)\n",
    "for key,val in position.items():\n",
    "    I = val > lead\n",
    "    lead[I] = val[I]\n",
    "\n",
    "result2 = 0\n",
    "for key,val in position.items():\n",
    "    rscore = sum(val == lead)\n",
    "    result2 = max(rscore,result2)\n",
    "    score2[key] = rscore\n",
    "\n",
    "print(\"part1: \", result1)\n",
    "print(\"part2: \", result2)\n"
   ]
  }
 ],
 "metadata": {
  "kernelspec": {
   "display_name": "Advent",
   "language": "python",
   "name": "python3"
  },
  "language_info": {
   "codemirror_mode": {
    "name": "ipython",
    "version": 3
   },
   "file_extension": ".py",
   "mimetype": "text/x-python",
   "name": "python",
   "nbconvert_exporter": "python",
   "pygments_lexer": "ipython3",
   "version": "3.11.5"
  }
 },
 "nbformat": 4,
 "nbformat_minor": 2
}
