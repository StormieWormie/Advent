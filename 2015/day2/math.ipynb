{
 "cells": [
  {
   "cell_type": "code",
   "execution_count": 3,
   "metadata": {},
   "outputs": [],
   "source": [
    "import numpy as np"
   ]
  },
  {
   "cell_type": "code",
   "execution_count": 11,
   "metadata": {},
   "outputs": [
    {
     "data": {
      "text/plain": [
       "1606483"
      ]
     },
     "execution_count": 11,
     "metadata": {},
     "output_type": "execute_result"
    }
   ],
   "source": [
    "file = open(\"input.txt\")\n",
    "\n",
    "def foo(x):\n",
    "    a = x[0]*x[1]\n",
    "    b = x[1]*x[2]\n",
    "    c = x[0]*x[2]\n",
    "\n",
    "    return 2*(a+b+c) + min(a,b,c)\n",
    "\n",
    "result = 0\n",
    "for line in file.readlines():\n",
    "    result += foo(np.array(line.split('x'),dtype=int))\n",
    "result"
   ]
  },
  {
   "cell_type": "code",
   "execution_count": 15,
   "metadata": {},
   "outputs": [
    {
     "data": {
      "text/plain": [
       "3842356"
      ]
     },
     "execution_count": 15,
     "metadata": {},
     "output_type": "execute_result"
    }
   ],
   "source": [
    "file = open(\"input.txt\")\n",
    "\n",
    "def bar(x):\n",
    "    y = np.sort(x)\n",
    "\n",
    "    return 2*(y[0]+y[1]) + y[0]*y[1]*y[2]\n",
    "\n",
    "result = 0\n",
    "for line in file.readlines():\n",
    "    result += bar(np.array(line.split('x'),dtype=int))\n",
    "result"
   ]
  },
  {
   "cell_type": "code",
   "execution_count": null,
   "metadata": {},
   "outputs": [],
   "source": []
  }
 ],
 "metadata": {
  "kernelspec": {
   "display_name": "Advent",
   "language": "python",
   "name": "python3"
  },
  "language_info": {
   "codemirror_mode": {
    "name": "ipython",
    "version": 3
   },
   "file_extension": ".py",
   "mimetype": "text/x-python",
   "name": "python",
   "nbconvert_exporter": "python",
   "pygments_lexer": "ipython3",
   "version": "3.11.5"
  }
 },
 "nbformat": 4,
 "nbformat_minor": 2
}
