{
 "cells": [
  {
   "cell_type": "code",
   "execution_count": 1,
   "metadata": {},
   "outputs": [],
   "source": [
    "import re\n",
    "import numpy as np"
   ]
  },
  {
   "cell_type": "code",
   "execution_count": 2,
   "metadata": {},
   "outputs": [
    {
     "data": {
      "text/plain": [
       "0"
      ]
     },
     "execution_count": 2,
     "metadata": {},
     "output_type": "execute_result"
    }
   ],
   "source": [
    "file = open('input.txt')\n",
    "\n",
    "circuit = {}\n",
    "\n",
    "for line in file.readlines():\n",
    "    info = line.split()\n",
    "    if len(info) == 3:\n",
    "        target = info[2]\n",
    "        if bool(re.fullmatch('[0-9]*',info[0])):\n",
    "            value = np.uint16(info[0])\n",
    "        else:\n",
    "            if info[0] not in circuit:\n",
    "                circuit[info[0]] = np.uint16(0)\n",
    "            value = circuit[info[0]]\n",
    "    if len(info) == 4:\n",
    "        target = info[3]\n",
    "        if info[1] not in circuit:\n",
    "            circuit[info[1]] = np.uint16(0)\n",
    "        value = ~circuit[info[1]]\n",
    "    if len(info) == 5:\n",
    "        target = info[4]\n",
    "        command = info[1]\n",
    "        if command in ['AND','OR']:\n",
    "            if info[0] not in circuit:\n",
    "                circuit[info[0]] = np.uint16(0)\n",
    "            if info[2] not in circuit:\n",
    "                circuit[info[2]] = np.uint16(0)\n",
    "            val1,val2 = circuit[info[0]], circuit[info[2]]\n",
    "            match command:\n",
    "                case 'AND':\n",
    "                    value = val1 & val2\n",
    "                case 'OR':\n",
    "                    value = val1 | val2\n",
    "                case default:\n",
    "                    print('oh no')\n",
    "        elif command in ['LSHIFT','RSHIFT']:\n",
    "            if info[0] not in circuit:\n",
    "                circuit[info[0]] = np.uint16(0)\n",
    "            val1 = circuit[info[0]]\n",
    "            val2 = np.uint16(info[2])\n",
    "            match command:\n",
    "                case 'LSHIFT':\n",
    "                    value = val1<<val2\n",
    "                case 'RSHIFT':\n",
    "                    value = val1>>val2\n",
    "                case default:\n",
    "                    print(\"oh no2\")\n",
    "        else:\n",
    "            print('oops')\n",
    "    circuit[target] = value\n",
    "\n",
    "circuit['a']    \n",
    "\n",
    "    "
   ]
  },
  {
   "cell_type": "code",
   "execution_count": 3,
   "metadata": {},
   "outputs": [],
   "source": [
    "file = open('input.txt')\n",
    "\n",
    "circuit = {}\n",
    "operations = ['ASSIGN','COPY','AND','OR','LSHIFT','RSHIFT','NOT']\n",
    "\n",
    "for operation in operations:\n",
    "    circuit[operation] = []\n",
    "\n",
    "for line in file.readlines():\n",
    "    info = line.split()\n",
    "    if len(info) == 3:\n",
    "        target = info[2]\n",
    "        value = info[0]\n",
    "        if bool(re.fullmatch('[0-9]*',info[0])):\n",
    "            operation = 'ASSIGN'\n",
    "        else:\n",
    "            operation = 'COPY'\n",
    "        circuit[operation].append([value,target])\n",
    "\n",
    "    if len(info) == 4:\n",
    "        target = info[3]\n",
    "        value = info[1]\n",
    "        operation = 'NOT'\n",
    "        circuit[operation].append([value,target])\n",
    "\n",
    "    if len(info) == 5:\n",
    "        target = info[4]\n",
    "        operation = info[1]\n",
    "        val1,val2 = info[0],info[2]\n",
    "        circuit[operation].append([val1,val2,target])\n",
    "        \n",
    "for operation in operations:\n",
    "    circuit[operation] = np.array(circuit[operation])\n",
    "\n",
    "values = {}\n",
    "\n",
    "for line in circuit['ASSIGN']:\n",
    "    values[line[1]] = np.uint16(line[0])\n",
    "\n",
    "def evaluate(target):\n",
    "    if bool(re.fullmatch('[0-9]*',target)):\n",
    "        return np.uint16(target)\n",
    "    if target in values:\n",
    "        return values[target]\n",
    "    else:\n",
    "        if target in circuit['COPY'][:,1]:\n",
    "            i = np.argwhere(target == circuit['COPY'][:,1])[0][0]\n",
    "            value = evaluate(circuit['COPY'][i,0])\n",
    "        elif target in circuit['NOT'][:,1]:\n",
    "            i = np.argwhere(target == circuit['NOT'][:,1])[0][0]\n",
    "            value = ~evaluate(circuit['NOT'][i,0])\n",
    "        elif target in circuit['LSHIFT'][:,2]:\n",
    "            i = np.argwhere(target == circuit['LSHIFT'][:,2])[0][0]\n",
    "            value = evaluate(circuit['LSHIFT'][i,0])<<np.uint16(circuit['LSHIFT'][i,1])\n",
    "        elif target in circuit['RSHIFT'][:,2]:\n",
    "            i = np.argwhere(target == circuit['RSHIFT'][:,2])[0][0]\n",
    "            value = evaluate(circuit['RSHIFT'][i,0])>>np.uint16(circuit['RSHIFT'][i,1])\n",
    "        elif target in circuit['AND'][:,2]:\n",
    "            i = np.argwhere(target == circuit['AND'][:,2])[0][0]\n",
    "            value = evaluate(circuit['AND'][i,0])&evaluate(circuit['AND'][i,1])\n",
    "        elif target in circuit['OR'][:,2]:\n",
    "            i = np.argwhere(target == circuit['OR'][:,2])[0][0]\n",
    "            value = evaluate(circuit['OR'][i,0])|evaluate(circuit['OR'][i,1])\n",
    "        else:\n",
    "            print(\"end for \", target)\n",
    "        values[target] = value\n",
    "        return value"
   ]
  },
  {
   "cell_type": "code",
   "execution_count": 4,
   "metadata": {},
   "outputs": [
    {
     "data": {
      "text/plain": [
       "3176"
      ]
     },
     "execution_count": 4,
     "metadata": {},
     "output_type": "execute_result"
    }
   ],
   "source": [
    "solution1 = evaluate('a')\n",
    "solution1"
   ]
  },
  {
   "cell_type": "code",
   "execution_count": 5,
   "metadata": {},
   "outputs": [],
   "source": [
    "values = {}\n",
    "for line in circuit['ASSIGN']:\n",
    "    values[line[1]] = np.uint16(line[0])\n",
    "\n",
    "values['b'] = solution1\n",
    "\n",
    "def evaluate(target):\n",
    "    if bool(re.fullmatch('[0-9]*',target)):\n",
    "        return np.uint16(target)\n",
    "    if target in values:\n",
    "        return values[target]\n",
    "    else:\n",
    "        if target in circuit['COPY'][:,1]:\n",
    "            i = np.argwhere(target == circuit['COPY'][:,1])[0][0]\n",
    "            value = evaluate(circuit['COPY'][i,0])\n",
    "        elif target in circuit['NOT'][:,1]:\n",
    "            i = np.argwhere(target == circuit['NOT'][:,1])[0][0]\n",
    "            value = ~evaluate(circuit['NOT'][i,0])\n",
    "        elif target in circuit['LSHIFT'][:,2]:\n",
    "            i = np.argwhere(target == circuit['LSHIFT'][:,2])[0][0]\n",
    "            value = evaluate(circuit['LSHIFT'][i,0])<<np.uint16(circuit['LSHIFT'][i,1])\n",
    "        elif target in circuit['RSHIFT'][:,2]:\n",
    "            i = np.argwhere(target == circuit['RSHIFT'][:,2])[0][0]\n",
    "            value = evaluate(circuit['RSHIFT'][i,0])>>np.uint16(circuit['RSHIFT'][i,1])\n",
    "        elif target in circuit['AND'][:,2]:\n",
    "            i = np.argwhere(target == circuit['AND'][:,2])[0][0]\n",
    "            value = evaluate(circuit['AND'][i,0])&evaluate(circuit['AND'][i,1])\n",
    "        elif target in circuit['OR'][:,2]:\n",
    "            i = np.argwhere(target == circuit['OR'][:,2])[0][0]\n",
    "            value = evaluate(circuit['OR'][i,0])|evaluate(circuit['OR'][i,1])\n",
    "        else:\n",
    "            print(\"end for \", target)\n",
    "        values[target] = value\n",
    "        return value"
   ]
  },
  {
   "cell_type": "code",
   "execution_count": 6,
   "metadata": {},
   "outputs": [
    {
     "data": {
      "text/plain": [
       "14710"
      ]
     },
     "execution_count": 6,
     "metadata": {},
     "output_type": "execute_result"
    }
   ],
   "source": [
    "solution2 = evaluate('a')\n",
    "solution2"
   ]
  },
  {
   "cell_type": "code",
   "execution_count": 9,
   "metadata": {},
   "outputs": [
    {
     "data": {
      "text/plain": [
       "336"
      ]
     },
     "execution_count": 9,
     "metadata": {},
     "output_type": "execute_result"
    }
   ],
   "source": [
    "len(values)"
   ]
  }
 ],
 "metadata": {
  "kernelspec": {
   "display_name": "Advent",
   "language": "python",
   "name": "python3"
  },
  "language_info": {
   "codemirror_mode": {
    "name": "ipython",
    "version": 3
   },
   "file_extension": ".py",
   "mimetype": "text/x-python",
   "name": "python",
   "nbconvert_exporter": "python",
   "pygments_lexer": "ipython3",
   "version": "3.11.5"
  }
 },
 "nbformat": 4,
 "nbformat_minor": 2
}
