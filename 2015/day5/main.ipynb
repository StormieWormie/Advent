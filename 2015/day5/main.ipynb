{
 "cells": [
  {
   "cell_type": "code",
   "execution_count": 7,
   "metadata": {},
   "outputs": [],
   "source": [
    "vowels = 'aeiou'\n",
    "naughty = ['ab','cd','pq','xy']"
   ]
  },
  {
   "cell_type": "code",
   "execution_count": 36,
   "metadata": {},
   "outputs": [
    {
     "data": {
      "text/plain": [
       "69"
      ]
     },
     "execution_count": 36,
     "metadata": {},
     "output_type": "execute_result"
    }
   ],
   "source": [
    "file = open('input.txt')\n",
    "result = 0\n",
    "for line in file.readlines():\n",
    "    line = line.removesuffix('\\n')\n",
    "    prev = None\n",
    "    prev2= None\n",
    "    rule1 = False\n",
    "    rule2 = False\n",
    "    register = {}\n",
    "\n",
    "    I = 0\n",
    "    for i in range(len(line)-1):\n",
    "        key = line[i:i+2]\n",
    "        if key[0] in register:\n",
    "            if key[1] in register[key[0]]:\n",
    "                if register[key[0]][key[1]] != I-1:\n",
    "                    rule1 = True\n",
    "                    break\n",
    "            else:\n",
    "                register[key[0]][key[1]] = I\n",
    "        else:\n",
    "            register[key[0]] = {key[1] : I}\n",
    "        I += 1\n",
    "        \n",
    "    for char in line:\n",
    "        if char == prev2:\n",
    "            rule2 = True\n",
    "            break\n",
    "        prev2 = prev\n",
    "        prev = char\n",
    "    \n",
    "    if rule1 and rule2:\n",
    "        result+=1\n",
    "\n",
    "result"
   ]
  }
 ],
 "metadata": {
  "kernelspec": {
   "display_name": "Advent",
   "language": "python",
   "name": "python3"
  },
  "language_info": {
   "codemirror_mode": {
    "name": "ipython",
    "version": 3
   },
   "file_extension": ".py",
   "mimetype": "text/x-python",
   "name": "python",
   "nbconvert_exporter": "python",
   "pygments_lexer": "ipython3",
   "version": "3.11.5"
  }
 },
 "nbformat": 4,
 "nbformat_minor": 2
}
